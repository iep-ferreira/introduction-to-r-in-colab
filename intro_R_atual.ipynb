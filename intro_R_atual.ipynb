{
  "nbformat": 4,
  "nbformat_minor": 0,
  "metadata": {
    "colab": {
      "provenance": []
    },
    "kernelspec": {
      "name": "ir",
      "display_name": "R"
    },
    "language_info": {
      "name": "R"
    }
  },
  "cells": [
    {
      "cell_type": "markdown",
      "source": [
        "# Aula de Introdução à Linguagem R\n",
        "\n",
        "*UFSCar Lagoa do Sino* \\\n",
        "Prof. Dr. Iuri Emmanuel de Paula Ferreira   \n",
        "contato: iuri@ufscar.br \\\n",
        "Versão: setembro de 2025\n",
        "\n",
        "\n",
        "Colaboração: \\\n",
        "Centro de Modelagem Estatística em Ciências Ambientais (CeMECA - UFSCar)\\\n",
        "\n"
      ],
      "metadata": {
        "id": "TVlxYM8V_rrM"
      }
    },
    {
      "cell_type": "markdown",
      "source": [
        "# Sumário\n",
        "\n",
        "  - [X] Configurações do R no Colab\n",
        "  - [ ] Apresentação do R\n",
        "  - [ ] Instalação, interface e execução dos códigos\n",
        "  - [ ] Tipos de dados\n",
        "  - [ ] Operações Básicas\n",
        "  - [ ] Estrutura de dados\n",
        "    - [ ] arrays e vetores\n",
        "    - [ ] matrizes e dataframes\n",
        "  - [ ] Desafios"
      ],
      "metadata": {
        "id": "6PygAZIobZqR"
      }
    },
    {
      "cell_type": "markdown",
      "metadata": {
        "id": "992f90b2"
      },
      "source": [
        "# Configurações do R no Colab\n",
        "\n",
        "Para usar R no Google Colab, a maneira mais simples é alterar o ambiente de execução do notebook diretamente.\n",
        "\n",
        "1.  Vá para o menu \"Ambiente de execução\" no topo da página.\n",
        "2.  Selecione \"Alterar tipo de ambiente de execução\".\n",
        "3.  Na janela de configurações do notebook, escolha \"R\" no dropdown \"Configurações do notebook\".\n",
        "4.  Clique em \"Salvar\".\n",
        "\n",
        "Após mudar o ambiente de execução para R, as células de código no seu notebook executarão código R nativamente."
      ]
    },
    {
      "cell_type": "markdown",
      "metadata": {
        "id": "6f14b23c"
      },
      "source": [
        "# R, Julia e Python: Uma Breve Comparação para Análise de Dados\n",
        "\n",
        "R, Julia e Python são linguagens populares para análise de dados, cada uma com seus pontos fortes e fracos.\n",
        "\n",
        "*   **R:** Fortemente focado em estatística e visualização de dados. Possui um vasto repositório de pacotes (CRAN) voltados para análise estatística. É amplamente utilizado em pesquisa acadêmica e por estatísticos. A sintaxe pode ser um pouco diferente de outras linguagens de programação.\n",
        "\n",
        "*   **Python:** Uma linguagem de propósito geral com uma vasta gama de aplicações, incluindo análise de dados, aprendizado de máquina, desenvolvimento web, etc. Possui bibliotecas poderosas como Pandas e NumPy para manipulação de dados e Scikit-learn e TensorFlow para aprendizado de máquina. É muito popular na indústria e academia.\n",
        "\n",
        "*   **Julia:** Projetada para computação de alto desempenho, especialmente em áreas científicas e numéricas. É conhecida por sua velocidade, que pode ser comparável à de linguagens compiladas como C, mantendo a flexibilidade de linguagens dinâmicas. A sintaxe é mais próxima da matemática. Ainda tem um ecossistema de pacotes menor comparado a R e Python.\n",
        "\n",
        "A escolha entre elas muitas vezes depende do projeto, da familiaridade da equipe com a linguagem e das necessidades específicas de desempenho ou de pacotes especializados."
      ]
    },
    {
      "cell_type": "markdown",
      "source": [
        "\n",
        "# Apresentação\n",
        "\n",
        "<div align = \"justify\">\n",
        "\n",
        "R é uma linguagem de programação criada por Ross Ihaka e\n",
        "Robert Gentleman, na universidade de Auckland, Nova Zelândia,\n",
        "em meados dos anos 1990. A linguagem R foi uma adaptação da\n",
        "linguagem S, criada por John Chambers em 1976, nos laboratórios\n",
        "Bell. </p>\n",
        "\n",
        "R também denomina um programa computacional destinado a análises estatísticas e visualização de dados. O programa R é livre ( _General Public License_ ) e possui código-fonte aberto, sendo aprimorado continuamente por uma rede global de colaboradores, a partir da _R Foundation for Statistical Computing_ , sediada em Viena, na Áustria. </p>\n",
        "\n",
        "A linguagem R vem se tornando cada vez mais utilizada, passando da 19º posição em 2019 ao 9º lugar em 2020 em popularidade, conforme _The TIOBE Programming Community index_ .\n",
        "\n",
        "</div>   \n",
        "\n",
        "\n",
        "\n"
      ],
      "metadata": {
        "id": "LNbzr6s38AOw"
      }
    },
    {
      "cell_type": "markdown",
      "source": [
        "# Instalação, interface e execução de códigos  \n",
        "\n",
        "<div align = \"justify\">\n",
        "\n",
        "Para instalar o R, clique no link [instalação](https://cran.r-project.org/). O usuário deverá escolher o arquivo de acordo com o seu sistema operacional. Detalhes sobre como usar o R pela primeira vez são expostos no vídeo que acompanha esta aula (AVA 2 - UFSCar).\n",
        "\n",
        "O R é uma linguagem interpretada. Isso significa que partes do código podem ser executadas diretamente do interpretador (interface R), sem a necessidade de compilar todo código e montar um arquivo executável (.exe). Dessa forma, o usuário seleciona o pedaço do código que deseja executar e, de imediato, tem o resultado impresso no terminal de saída ou na janela gráfica. Se houver erro de sintaxe/interpretação, o programa exibirá um alerta no terminal de saída.   \n",
        "\n",
        "Após abrir a interface R, o usuário deverá criar um script (.txt ou .R) no qual os comandos serão salvos. Para executar um bloco de comandos, o usuário deverá selecioná-lo com o cursor do mouse (deixando-o em realce) e, então, pressionar \"F5\" ou \"CTRL+ENTER\", a depender da interface em uso. Outra opção é executar o comando, linha a linha, até completar o bloco de comandos desejado.\n",
        "\n",
        "Se o terminal de saída apresentar o símbolo \"+\", isso significa que algum comando ainda não foi finalizado e o programa aguarda sua conclusão. Às vezes, a execução das linhas de comando não segue a ordem correta e o programa \"trava\" com o sinal de \"+\" e, nesse caso, é preciso \"matar\" o processo clicando no botão \"Stop\".\n",
        "\n",
        "No R, os resultados podem ser obtidos a partir do uso de funções/expressões ou serem atribuídos a variáveis e gravados\n",
        "na memória do computador. Há diversas formas de atribuir valores\n",
        "a uma variável: nome <- valor; valor -> nome; nome = valor.\n",
        "Tanto \"->\" como \"=\" funcionam como comandos de atribuição. Uma vantagem do R é o fato de não ser requerida a declaração/inicialização de variáveis, tipos e tamanhos ao início do programa, como é comum em outras linguagens. R é uma linguagem _case sensitive_, isso significa que letras maiúsculas e minúsculas são diferenciadas no programa. Portanto, uma variável de nome \"x\" será diferente de outra com nome \"X\".\n",
        "\n",
        "</div>\n",
        "\n",
        "\n",
        "\n"
      ],
      "metadata": {
        "id": "TP4wihn3_8zi"
      }
    },
    {
      "cell_type": "code",
      "source": [
        "# Cálculo a partir de expressão\n",
        "sin(0.5)\n"
      ],
      "metadata": {
        "colab": {
          "base_uri": "https://localhost:8080/",
          "height": 34
        },
        "id": "P0kXuR8ZCFP9",
        "outputId": "8b3b019f-ffdd-4284-9855-08462d303744"
      },
      "execution_count": 1,
      "outputs": [
        {
          "output_type": "display_data",
          "data": {
            "text/html": [
              "0.479425538604203"
            ],
            "text/markdown": "0.479425538604203",
            "text/latex": "0.479425538604203",
            "text/plain": [
              "[1] 0.4794255"
            ]
          },
          "metadata": {}
        }
      ]
    },
    {
      "cell_type": "code",
      "source": [
        "# Valores atribuídos a variáveis locais\n",
        "x <- 5\n",
        "10 -> X\n"
      ],
      "metadata": {
        "id": "taAKuD7QCUsl"
      },
      "execution_count": 2,
      "outputs": []
    },
    {
      "cell_type": "code",
      "source": [
        "# Diferença entre as variáveis \"x\" e \"X\"\n",
        "print( sprintf(\"O valor de 5 vezes x é: %d\", 5*x) ); sprintf(\"O valor de 5 vezes X é: %d\", 5*X)"
      ],
      "metadata": {
        "colab": {
          "base_uri": "https://localhost:8080/",
          "height": 53
        },
        "id": "wg2A1YcBCW_H",
        "outputId": "7c966c2e-bad3-49d3-aad7-ad1edf9ad651"
      },
      "execution_count": 3,
      "outputs": [
        {
          "output_type": "stream",
          "name": "stdout",
          "text": [
            "[1] \"O valor de 5 vezes x é: 25\"\n"
          ]
        },
        {
          "output_type": "display_data",
          "data": {
            "text/html": [
              "'O valor de 5 vezes X é: 50'"
            ],
            "text/markdown": "'O valor de 5 vezes X é: 50'",
            "text/latex": "'O valor de 5 vezes X é: 50'",
            "text/plain": [
              "[1] \"O valor de 5 vezes X é: 50\""
            ]
          },
          "metadata": {}
        }
      ]
    },
    {
      "cell_type": "markdown",
      "source": [
        "<div align = \"justify\">\n",
        "\n",
        "Geralmente, o programador quebra linha entre comandos diferentes e\n",
        "executa uma linha por vez. Entretanto, há a opção de listar inúmeros\n",
        "comandos na mesma linha, separando-os por ponto-e-vírgula.\n",
        "\n",
        "Textos que seguem \"#\" são comentários e, portanto, são desconsiderados pelo interpretador durante a execução do programa. Servem apenas para orientar os programadores/leitores do código.\n",
        "\n",
        "</div>"
      ],
      "metadata": {
        "id": "mtJMt7vmClch"
      }
    },
    {
      "cell_type": "code",
      "source": [
        "# Programa: a parábola ax^2 + bx + c tem duas raízes reais?\n",
        "print(\"Vamos fazer um programa para dizer se a parábola ax^2 + bx + c tem raízes reais.\")\n",
        "a <- as.numeric(readline(\"Escreva o valor do coeficiente a: \" ))\n",
        "b <- as.numeric(readline(\"Escreva o valor do coeficiente b: \" ))\n",
        "c <- as.numeric(readline(\"Escreva o valor do coeficiente c: \" ))\n",
        "# Cálculo do disciminante\n",
        "delta <- b^2-4*a*c\n",
        "# Se o discriminante é maior ou igual a zero, há raízes reais.\n",
        "if(delta >= 0){\n",
        "   print(\"Sim! A parábola tem raízes reais.\")\n",
        "} else{ print(\"Não. A parábola não tem raízes reais.\")}\n"
      ],
      "metadata": {
        "id": "K8F1tAJjEg31"
      },
      "execution_count": null,
      "outputs": []
    },
    {
      "cell_type": "markdown",
      "source": [
        "# Tipos de dados\n",
        "\n",
        "<div align = \"justify\">\n",
        "\n",
        "Há diversos tipos de dados que podem ser armazenados na memória do computador e manipulados a partir do programa R. Os dados podem ser\n",
        "numéricos (reais ou inteiros), lógicos (verdadeiro ou falso),\n",
        "caracteres (sequências alfanuméricas), números complexos ou funções.\n",
        "\n",
        "</div>"
      ],
      "metadata": {
        "id": "4yo01hpQGwg0"
      }
    },
    {
      "cell_type": "markdown",
      "source": [
        "  + Dado numérico real (ponto flutuante)\n",
        "\n"
      ],
      "metadata": {
        "id": "X18c1akgHAVE"
      }
    },
    {
      "cell_type": "code",
      "source": [
        "1/3"
      ],
      "metadata": {
        "id": "0wa6J_zRGyg_"
      },
      "execution_count": null,
      "outputs": []
    },
    {
      "cell_type": "markdown",
      "source": [
        "  + Dado numérico inteiro\n",
        "  \n",
        "\n"
      ],
      "metadata": {
        "id": "Al40NnazHR6z"
      }
    },
    {
      "cell_type": "code",
      "source": [
        "as.integer(1/3)"
      ],
      "metadata": {
        "id": "_ZT9Y63-HgPf"
      },
      "execution_count": null,
      "outputs": []
    },
    {
      "cell_type": "markdown",
      "source": [
        "  + Dado lógico"
      ],
      "metadata": {
        "id": "dCSLloOjHsUE"
      }
    },
    {
      "cell_type": "code",
      "source": [
        "x > X"
      ],
      "metadata": {
        "id": "2d3AYutkHvkM"
      },
      "execution_count": null,
      "outputs": []
    },
    {
      "cell_type": "markdown",
      "source": [
        "  + Caracteres, Strings ou Palavras (Alfabéticas ou Alfanuméricas)"
      ],
      "metadata": {
        "id": "cVEvUg7kH0kP"
      }
    },
    {
      "cell_type": "code",
      "source": [
        "nome <- \"Nivaldo Rolando Pedreira\"\n",
        "class(nome)"
      ],
      "metadata": {
        "id": "Sv4PZCw4IQK-"
      },
      "execution_count": null,
      "outputs": []
    },
    {
      "cell_type": "markdown",
      "source": [
        "  + Função\n",
        "  "
      ],
      "metadata": {
        "id": "lzNfaKCqJdwi"
      }
    },
    {
      "cell_type": "code",
      "source": [
        "class(exp)"
      ],
      "metadata": {
        "id": "-6g3usZnJkSo"
      },
      "execution_count": null,
      "outputs": []
    },
    {
      "cell_type": "markdown",
      "source": [
        "<div align = \"justify\">\n",
        "\n",
        "O comando _class_ retorna o tipo do dado guardado no objeto que entra como argumento da função (entre parênteses).\n",
        "\n",
        "Se o leitor tiver dúvidas sobre algum comando, pode utilizar a função\n",
        "_help_. Para testar, digite no console: _help(\"sum\")_.\n",
        "\n",
        "</div>"
      ],
      "metadata": {
        "id": "6vulBwYLKHGy"
      }
    },
    {
      "cell_type": "markdown",
      "source": [
        "  + Vamos fazer uma função que calcula a média?"
      ],
      "metadata": {
        "id": "tT_9_KdSjEcm"
      }
    },
    {
      "cell_type": "code",
      "source": [
        "calcula_media <- function(x){\n",
        "\n",
        "# ... processamento ...\n",
        "soma <- sum(x)\n",
        "n <- length(x)\n",
        "media <- soma/n\n",
        "\n",
        "return(media)\n",
        "}"
      ],
      "metadata": {
        "id": "pkCyf7FFjMqP"
      },
      "execution_count": null,
      "outputs": []
    },
    {
      "cell_type": "code",
      "source": [
        "x <- c(19, 17, 23, 54, 12, 35, 18)\n",
        "calcula_media(x)"
      ],
      "metadata": {
        "id": "lTlRHkByj3XV"
      },
      "execution_count": null,
      "outputs": []
    },
    {
      "cell_type": "markdown",
      "source": [
        "# Operações Básicas e Funções Matemáticas\n",
        "\n",
        "No R, as operações aritméticas são definidas de maneira intuitiva."
      ],
      "metadata": {
        "id": "7KZESi8CKSrY"
      }
    },
    {
      "cell_type": "code",
      "source": [
        "l<-23\n",
        "print(l^2+2*l)\n",
        "print(3*2+2)\n",
        "print(3*(2+2))\n",
        "print(l/3)\n"
      ],
      "metadata": {
        "id": "eds43LkyKT9L"
      },
      "execution_count": null,
      "outputs": []
    },
    {
      "cell_type": "markdown",
      "source": [
        "Mais operações matemáticas são listadas   [aqui](https://stat.ethz.ch/R-manual/R-devel/library/base/html/Arithmetic.html).\n",
        "\n",
        "Além disso, diversas funções matemáticas são pré-definidas no R.\n"
      ],
      "metadata": {
        "id": "VFi0zwWdNjw5"
      }
    },
    {
      "cell_type": "code",
      "source": [
        "# Arredondar (duas casas decimais)\n",
        "round(17/3,2)"
      ],
      "metadata": {
        "id": "FOt8BSN0Nljj"
      },
      "execution_count": null,
      "outputs": []
    },
    {
      "cell_type": "code",
      "source": [
        "# seno, cosseno, tangente, arco-tangente, tengente hiperbólica\n",
        "print( list(sin(pi), cos(pi), tan(pi), atan(0.5), tanh(0.5)) )"
      ],
      "metadata": {
        "id": "J1Jy3h31Nu1C"
      },
      "execution_count": null,
      "outputs": []
    },
    {
      "cell_type": "code",
      "source": [
        "# raiz quadrado, exponencial, log natural, log na base 10 e módulo\n",
        "print( list(sqrt(4), exp(2), log(10), log10(10), abs(-6.5))  )"
      ],
      "metadata": {
        "id": "DLgqkZw6OJAZ"
      },
      "execution_count": null,
      "outputs": []
    },
    {
      "cell_type": "markdown",
      "source": [
        "<div align = \"justify\">\n",
        "\n",
        "Por sua vez, comparações e controle de fluxo dependem de operadores\n",
        "lógicos, ou seja, que resultam em _TRUE_ ou _FALSE_. Observe que \"==\"\n",
        "não é um comando de atribuição, mas trata-se de uma comparação lógica de igualdade. Com comandos lógicos, também é possível estabelecer a união e\n",
        "a interseção entre conjuntos: \"(cond. 1)&(cond. 2)\" será verdade (_TRUE_) apenas se as condições 1 e 2 forem satisfeitas simultaneamente; por outro lado, \"(cond. 1)|(cond. 2)\" será verdade se a condição 1 ou a condição 2 (ou ambas) forem satisfeitas.\n",
        "\n",
        "</div>"
      ],
      "metadata": {
        "id": "pL1HaMcVObAh"
      }
    },
    {
      "cell_type": "code",
      "source": [
        "print(\"Entre com um nome:\")\n",
        "nome <- readline()\n",
        "is.numeric(nome)\n",
        "\n"
      ],
      "metadata": {
        "id": "4ibhj58MOc0T"
      },
      "execution_count": null,
      "outputs": []
    },
    {
      "cell_type": "code",
      "source": [
        "is.character(nome)"
      ],
      "metadata": {
        "id": "IWaOQaQ7R7MF"
      },
      "execution_count": null,
      "outputs": []
    },
    {
      "cell_type": "code",
      "source": [
        "# A variável é igual a 23?\n",
        "l==23\n",
        "# A variável é menor do que 15?\n",
        "print(l<15)\n",
        "# A variável é menor do que 23\n",
        "print(l<=23)\n",
        "# atribuição (nova variável)\n",
        "print(a<-17)\n"
      ],
      "metadata": {
        "id": "E_LuegFuQevx"
      },
      "execution_count": null,
      "outputs": []
    },
    {
      "cell_type": "code",
      "source": [
        "# condição 1 E condição 2\n",
        "(a<15)&(l>23)\n"
      ],
      "metadata": {
        "id": "w4UpNQwzSfnj"
      },
      "execution_count": null,
      "outputs": []
    },
    {
      "cell_type": "code",
      "source": [
        "# condição 1 OU condição 2\n",
        "(a<15)|(l>23)\n"
      ],
      "metadata": {
        "id": "iuQGrXuHSi6E"
      },
      "execution_count": null,
      "outputs": []
    },
    {
      "cell_type": "markdown",
      "source": [
        "# Principais estruturas de dados   \n",
        "\n"
      ],
      "metadata": {
        "id": "9E-HUb9SS48M"
      }
    },
    {
      "cell_type": "markdown",
      "source": [
        "## Vetores\n",
        "\n",
        "<div align = \"justify\">\n",
        "\n",
        "Vetor é o tipo de estrutura de dados mais simples. Trata-se de uma sequência de \"valores\" a serem armazenados na memória do computador. Observe que tais valores não são necessariamente números, mas podem ser nomes e/ou categorias ou valores lógicos (TRUE ou FALSE). Cada elemento de um vetor é um componente.\n",
        "\n",
        "Uma lista pode ser construída a partir da combinação de elementos do mesmo tipo, através do comando (*combine*). Sua sintaxe é *c(element 1, element 2, ...)* . Observe que os elementos são separados por vírgulas. Se os elementos forem números decimais, as unidades e os decimais serão separados por pontos, como na Língua Inglesa.\n",
        "\n",
        "</div>"
      ],
      "metadata": {
        "id": "LzjLBN3fX6a1"
      }
    },
    {
      "cell_type": "code",
      "source": [
        "# Vetor c/ números inteiros de 1 a 10\n",
        "v<-c(1,2,3,4,5,6,7,8,9,10)\n",
        "# Impressão do vetor armazenado\n",
        "print(v)\n",
        "# Quinto elemento do vetor\n",
        "print(v[5])"
      ],
      "metadata": {
        "id": "fdwr00VvS-b1"
      },
      "execution_count": null,
      "outputs": []
    },
    {
      "cell_type": "code",
      "source": [
        "# Vetor c/ nomes dos alunos\n",
        "nomes<-c(\"Raul\",\"Zulmira\",\"Edmilson\",\"Jaquelina\",\"Gabriela\",\"Hudson\")\n",
        "# Impressão do vetor armazenado\n",
        "nomes\n",
        "# Obs: Nomes e rótulos sempre devem ser incluídos com aspas duplas."
      ],
      "metadata": {
        "id": "ZbBo-7uuTLqO"
      },
      "execution_count": null,
      "outputs": []
    },
    {
      "cell_type": "code",
      "source": [
        "# Vetor com valores lógicos\n",
        "# Quais elementos de v são divisíveis por 2?\n",
        "print(v%%2)\n",
        "# Observe que o operador %% indica a divisibilidade\n",
        "# (0 = não divisível / 1 = divisível)\n",
        "as.logical(v%%2)\n",
        "# Aqui os valores foram transformados em variáveis lógicas\n",
        "# (i.e. TRUE = Verdadeiro = 1; FALSE = Falso = 0)"
      ],
      "metadata": {
        "id": "8-sEOOdzTbwo"
      },
      "execution_count": null,
      "outputs": []
    },
    {
      "cell_type": "markdown",
      "source": [
        "<div align = \"justify\">\n",
        "\n",
        "Quando digitamos *vetor[2]*, o número disposto entre colchetes é uma **subscrição**. A subscrição indica a posição de um dado dentro de uma\n",
        "estrutura de dados. Obviamente, a subscrição é um número inteiro e\n",
        "dentro dos limites de tamanho da lista. A subscrição/índice varia de 1\n",
        "até N, em que N é o número de elementos na lista.\n",
        "\n",
        "Diversas operações com vetores e entre vetores e matrizes são pré-definidas no R. No exemplo abaixo, identifique a diferença entre o produto ponto-a-ponto e a multiplicação escalar (produto interno).\n",
        "\n",
        "</div>"
      ],
      "metadata": {
        "id": "T0ou-9cUTqRl"
      }
    },
    {
      "cell_type": "code",
      "source": [
        "# Definição de dois vetores quaisquer\n",
        "v <- c(12,3,4,25,7,8)\n",
        "r <- c(13,15,4,21,2,3)\n",
        "print(\"Comprimento de um vetor\")\n",
        "print( length(v) )\n",
        "readline(scan(n=1)) # dê enter para continuar!\n",
        "print(\"Multiplicação ponto-a-ponto\")\n",
        "print( v*r )\n",
        "readline(scan(n=1)) # dê enter para continuar!\n",
        "print(\"Produto escalar <v,r>\")\n",
        "print( v%*%r )"
      ],
      "metadata": {
        "id": "aBEF6RvlTvqm"
      },
      "execution_count": null,
      "outputs": []
    },
    {
      "cell_type": "markdown",
      "source": [
        "\n",
        "## Arrays ou matrizes\n",
        "\n",
        "Arrays e matrizes são estruturas de dados bidimensionais, cujas as\n",
        "entradas apresentam subscrições para as linhas e colunas.\n"
      ],
      "metadata": {
        "id": "vaenQXVKVKoH"
      }
    },
    {
      "cell_type": "code",
      "source": [
        "# Criando um banco de dados\n",
        "dados<-data.frame(v,r)\n",
        "# Leitura das 3 linhas iniciais\n",
        "head(dados,3)\n"
      ],
      "metadata": {
        "id": "THTagj_FVOgz"
      },
      "execution_count": null,
      "outputs": []
    },
    {
      "cell_type": "code",
      "source": [
        "# acessando a coluna \"v\" do banco de dados\n",
        "dados$v\n"
      ],
      "metadata": {
        "id": "TrYIzw2dVWs-"
      },
      "execution_count": null,
      "outputs": []
    },
    {
      "cell_type": "code",
      "source": [
        "# Acessando o elemento da linha 3 e coluna 2\n",
        "dados[3,2]\n"
      ],
      "metadata": {
        "id": "uU0I7hgfVYgX"
      },
      "execution_count": null,
      "outputs": []
    },
    {
      "cell_type": "code",
      "source": [
        "# Dimenões do banco de dados\n",
        "dim(dados)"
      ],
      "metadata": {
        "id": "MMEBAY_1VauT"
      },
      "execution_count": null,
      "outputs": []
    },
    {
      "cell_type": "markdown",
      "source": [
        "\n",
        "<div align = \"justify\">\n",
        "\n",
        "No exemplo abaixo, definimos uma matriz com 3 linhas (_nr = number of lines_) e cujo preenchimento segue a ordem das colunas (_byrow = FALSE_).\n",
        "Diversas operações matriciais são possíveis, tais como: transposição, inversão, multiplicação, cálculo de autovalores, autovetores e determinantes. Essas operações têm grande relevância na Estatística.\n",
        "\n",
        "</div>"
      ],
      "metadata": {
        "id": "dU4AsbQ2Vrqw"
      }
    },
    {
      "cell_type": "code",
      "source": [
        "# Definindo a matriz\n",
        "A<-matrix(c(2,3,4,5,6,7),nr=3,byrow=FALSE)\n",
        "A\n"
      ],
      "metadata": {
        "id": "QkzN4HnuVsdy"
      },
      "execution_count": null,
      "outputs": []
    },
    {
      "cell_type": "code",
      "source": [
        "# Obtenção da transposta\n",
        "t(A)\n"
      ],
      "metadata": {
        "id": "J_6_c_VTVzAT"
      },
      "execution_count": null,
      "outputs": []
    },
    {
      "cell_type": "code",
      "source": [
        "# Definindo outra matriz\n",
        "B<-matrix(c(2,3,4,5,6,7,8,9,10),nr=3,byrow=FALSE)\n",
        "B\n"
      ],
      "metadata": {
        "id": "HsdNvY1CV1D3"
      },
      "execution_count": null,
      "outputs": []
    },
    {
      "cell_type": "code",
      "source": [
        "# Cálculo do determinante\n",
        "det(B)\n"
      ],
      "metadata": {
        "id": "eT4fHaBtV2xg"
      },
      "execution_count": null,
      "outputs": []
    },
    {
      "cell_type": "code",
      "source": [
        "# Tentativa - Cálculo da Inversa\n",
        "try(solve(B))\n"
      ],
      "metadata": {
        "id": "Y8TLo1BJV4im"
      },
      "execution_count": null,
      "outputs": []
    },
    {
      "cell_type": "code",
      "source": [
        "# Nova matriz\n",
        "B2<-matrix(c(2,3,28,5,6,12,8,9,5),nr=3,byrow=FALSE)\n",
        "print(det(B2))\n",
        "print(solve(B2))\n"
      ],
      "metadata": {
        "id": "KS9iPy4TV61b"
      },
      "execution_count": null,
      "outputs": []
    },
    {
      "cell_type": "code",
      "source": [
        "# multiplicação ponto-a-ponto\n",
        "B*B2\n"
      ],
      "metadata": {
        "id": "UgtW7XE6WDAZ"
      },
      "execution_count": null,
      "outputs": []
    },
    {
      "cell_type": "code",
      "source": [
        "# multiplicação matricial\n",
        "B%*%B2"
      ],
      "metadata": {
        "id": "T5_eMoWYWEa3"
      },
      "execution_count": null,
      "outputs": []
    },
    {
      "cell_type": "markdown",
      "metadata": {
        "id": "b8a8511e"
      },
      "source": [
        "## Data Frames\n",
        "\n",
        "Data frames são estruturas de dados tabulares em R, semelhantes a planilhas ou tabelas de banco de dados. Eles são amplamente utilizados para armazenar dados que podem ter diferentes tipos de dados em cada coluna (por exemplo, uma coluna pode conter números, outra texto, etc.). Cada coluna em um data frame é um vetor de igual comprimento, e cada linha representa uma observação."
      ]
    },
    {
      "cell_type": "markdown",
      "metadata": {
        "id": "37f8e9f0"
      },
      "source": [
        "### Criando um Data Frame\n",
        "\n",
        "Podemos criar um data frame combinando vetores de igual comprimento."
      ]
    },
    {
      "cell_type": "code",
      "metadata": {
        "id": "38957bda"
      },
      "source": [
        "# Criando vetores para o data frame\n",
        "nomes <- c(\"Ana\", \"Bruno\", \"Carla\", \"Daniela\")\n",
        "idades <- c(25, 30, 22, 28)\n",
        "cidades <- c(\"São Paulo\", \"Rio de Janeiro\", \"Belo Horizonte\", \"Curitiba\")\n",
        "\n",
        "# Criando o data frame\n",
        "pessoas_df <- data.frame(Nome = nomes, Idade = idades, Cidade = cidades)\n",
        "\n",
        "# Exibindo o data frame\n",
        "print(pessoas_df)"
      ],
      "execution_count": null,
      "outputs": []
    },
    {
      "cell_type": "markdown",
      "metadata": {
        "id": "7d9e3569"
      },
      "source": [
        "### Acessando Elementos em um Data Frame\n",
        "\n",
        "Podemos acessar colunas usando o operador `$` ou colchetes `[]`. Para acessar linhas ou elementos específicos, usamos colchetes com índices de linha e coluna."
      ]
    },
    {
      "cell_type": "code",
      "metadata": {
        "id": "84a32756"
      },
      "source": [
        "# Acessando a coluna \"Nome\"\n",
        "print(\"Coluna 'Nome':\")\n",
        "print(pessoas_df$Nome)\n",
        "\n",
        "# Acessando a coluna \"Idade\" usando colchetes\n",
        "print(\"\\nColuna 'Idade':\")\n",
        "print(pessoas_df[, \"Idade\"])\n",
        "\n",
        "# Acessando a primeira linha\n",
        "print(\"\\nPrimeira linha:\")\n",
        "print(pessoas_df[1, ])\n",
        "\n",
        "# Acessando o elemento na segunda linha e terceira coluna\n",
        "print(\"\\nElemento na segunda linha e terceira coluna:\")\n",
        "print(pessoas_df[2, 3])"
      ],
      "execution_count": null,
      "outputs": []
    },
    {
      "cell_type": "markdown",
      "metadata": {
        "id": "93003fe1"
      },
      "source": [
        "### Informações sobre o Data Frame\n",
        "\n",
        "Podemos obter informações sobre a estrutura e as dimensões de um data frame."
      ]
    },
    {
      "cell_type": "code",
      "metadata": {
        "id": "a522899b"
      },
      "source": [
        "# Estrutura do data frame\n",
        "print(\"Estrutura do data frame:\")\n",
        "str(pessoas_df)\n",
        "\n",
        "# Dimensões do data frame (linhas x colunas)\n",
        "print(\"\\nDimensões do data frame:\")\n",
        "dim(pessoas_df)\n",
        "\n",
        "# Nomes das colunas\n",
        "print(\"\\nNomes das colunas:\")\n",
        "colnames(pessoas_df)"
      ],
      "execution_count": null,
      "outputs": []
    },
    {
      "cell_type": "markdown",
      "metadata": {
        "id": "d65ee1bc"
      },
      "source": [
        "## Manipulação de Data Frames com dplyr\n",
        "\n",
        "O pacote `dplyr` é uma ferramenta poderosa e popular no R para manipulação de dados, especialmente com data frames. Ele fornece um conjunto consistente de funções que facilitam a realização de operações comuns, como filtrar linhas, selecionar colunas, ordenar dados, agrupar e resumir."
      ]
    },
    {
      "cell_type": "markdown",
      "metadata": {
        "id": "21d62155"
      },
      "source": [
        "### Instalando e Carregando o dplyr\n",
        "\n",
        "Antes de usar o `dplyr`, você precisa instalá-lo (se ainda não tiver) e carregá-lo na sua sessão R."
      ]
    },
    {
      "cell_type": "code",
      "metadata": {
        "id": "19e1e775"
      },
      "source": [
        "# Instalar dplyr (execute apenas se não tiver instalado)\n",
        "# install.packages(\"dplyr\")\n",
        "\n",
        "# Carregar o pacote dplyr\n",
        "library(dplyr)"
      ],
      "execution_count": null,
      "outputs": []
    },
    {
      "cell_type": "markdown",
      "metadata": {
        "id": "1a3edf89"
      },
      "source": [
        "### Principais Funções do dplyr\n",
        "\n",
        "O `dplyr` oferece várias funções verbais e intuitivas para manipular data frames:\n",
        "\n",
        "- `filter()`: Filtra linhas com base em condições.\n",
        "- `select()`: Seleciona colunas por nome ou posição.\n",
        "- `arrange()`: Ordena linhas com base em uma ou mais colunas.\n",
        "- `mutate()`: Cria novas colunas ou modifica colunas existentes.\n",
        "- `summarise()`: Calcula valores resumidos (como média, mediana, contagem).\n",
        "- `group_by()`: Agrupa dados por uma ou mais variáveis para operações resumidas."
      ]
    },
    {
      "cell_type": "markdown",
      "metadata": {
        "id": "49e1dcd5"
      },
      "source": [
        "### Exemplos de Uso do dplyr\n",
        "\n",
        "Vamos usar o data frame `pessoas_df` criado anteriormente para demonstrar algumas funções do `dplyr`."
      ]
    },
    {
      "cell_type": "code",
      "metadata": {
        "id": "d0b89f96"
      },
      "source": [
        "# Filtrar pessoas com mais de 25 anos\n",
        "pessoas_mais_25 <- pessoas_df %>% filter(Idade > 25)\n",
        "print(pessoas_mais_25)"
      ],
      "execution_count": null,
      "outputs": []
    },
    {
      "cell_type": "code",
      "metadata": {
        "id": "94d741d7"
      },
      "source": [
        "# Selecionar apenas as colunas Nome e Cidade\n",
        "nome_cidade <- pessoas_df %>% select(Nome, Cidade)\n",
        "print(nome_cidade)"
      ],
      "execution_count": null,
      "outputs": []
    },
    {
      "cell_type": "code",
      "metadata": {
        "id": "2abb694c"
      },
      "source": [
        "# Ordenar por idade em ordem crescente\n",
        "pessoas_ordenadas_idade <- pessoas_df %>% arrange(Idade)\n",
        "print(pessoas_ordenadas_idade)"
      ],
      "execution_count": null,
      "outputs": []
    },
    {
      "cell_type": "code",
      "metadata": {
        "id": "4a5e087c"
      },
      "source": [
        "# Adicionar uma nova coluna com a idade em meses\n",
        "pessoas_com_idade_meses <- pessoas_df %>% mutate(Idade_Meses = Idade * 12)\n",
        "print(pessoas_com_idade_meses)"
      ],
      "execution_count": null,
      "outputs": []
    },
    {
      "cell_type": "code",
      "metadata": {
        "id": "38535222"
      },
      "source": [
        "# Calcular a idade média\n",
        "idade_media <- pessoas_df %>% summarise(Media_Idade = mean(Idade))\n",
        "print(idade_media)"
      ],
      "execution_count": null,
      "outputs": []
    },
    {
      "cell_type": "markdown",
      "source": [
        "# Exercício 1 - Operações com Vetores\n",
        "\n",
        "# 1. Crie dois vetores numéricos, `vetor1` e `vetor2`, com 5 elementos cada.\n",
        "# Escolha valores inteiros ou decimais para os elementos.\n",
        "\n",
        "# 2. Calcule a soma elemento a elemento dos dois vetores e armazene o resultado em `soma_vetores`.\n",
        "\n",
        "# 3. Calcule o produto escalar entre `vetor1` e `vetor2` e armazene o resultado em `produto_escalar`.\n",
        "\n",
        "# 4. Verifique quais elementos em `vetor1` são maiores que 10.\n",
        "\n",
        "# 5. Crie um novo vetor `vetor3` contendo apenas os elementos de `vetor1` que são maiores que 10.\n"
      ],
      "metadata": {
        "id": "fahaLoOz4qp3"
      }
    },
    {
      "cell_type": "markdown",
      "metadata": {
        "id": "752f6110"
      },
      "source": [
        "# Exercício 2 - Manipulação de Vetores\n",
        "\n",
        "# 1. Crie um vetor de caracteres chamado `frutas` com pelo menos 6 nomes de frutas.\n",
        "# 2. Acesse e imprima o terceiro elemento do vetor `frutas`.\n",
        "# 3. Acesse e imprima os elementos do segundo ao quarto do vetor `frutas`.\n",
        "# 4. Modifique o quinto elemento do vetor `frutas` para \"kiwi\".\n",
        "# 5. Adicione um novo elemento \"manga\" ao final do vetor `frutas`.\n",
        "# 6. Imprima o vetor `frutas` atualizado."
      ]
    },
    {
      "cell_type": "markdown",
      "metadata": {
        "id": "f33cb2ca"
      },
      "source": [
        "# Exercício 3 - Criando e Usando Funções\n",
        "\n",
        "# 1. Crie uma função em R chamada `calcula_imc` que recebe dois argumentos: `peso` (em kg) e `altura` (em metros).\n",
        "# 2. A função deve calcular o Índice de Massa Corporal (IMC) usando a fórmula: IMC = peso / (altura^2).\n",
        "# 3. A função deve retornar o valor do IMC calculado.\n",
        "# 4. Use a função `calcula_imc` para calcular o IMC de uma pessoa com 70 kg e 1.75 metros de altura.\n",
        "# 5. Imprima o resultado do IMC calculado."
      ]
    },
    {
      "cell_type": "markdown",
      "metadata": {
        "id": "131b3418"
      },
      "source": [
        "# Exercício 4 - Função para Análise de Vetor\n",
        "\n",
        "# 1. Crie uma função em R chamada `analisa_vetor` que recebe um vetor numérico como argumento.\n",
        "# 2. A função deve calcular e retornar uma lista contendo a média, a mediana e o desvio padrão do vetor de entrada.\n",
        "# 3. Crie um vetor numérico de exemplo.\n",
        "# 4. Use a função `analisa_vetor` para analisar o vetor de exemplo.\n",
        "# 5. Imprima os resultados retornados pela função."
      ]
    }
  ]
}