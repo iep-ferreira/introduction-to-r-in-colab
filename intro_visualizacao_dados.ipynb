{
  "nbformat": 4,
  "nbformat_minor": 0,
  "metadata": {
    "colab": {
      "name": "intro-visualizacao-dados.ipynb",
      "provenance": [],
      "toc_visible": true
    },
    "kernelspec": {
      "name": "python3",
      "display_name": "Python 3"
    },
    "language_info": {
      "name": "python"
    }
  },
  "cells": [
    {
      "cell_type": "markdown",
      "source": [
        "# Visualização de Dados com o R \n",
        "\n",
        "UFSCar Lagoa do Sino \\\n",
        "Prof. Dr. Iuri Emmanuel de Paula Ferreira \\\n",
        "Contato: iuri@ufscar.br \\\n",
        "Data: 09 de agosto de 2022\n",
        "\n",
        "\n",
        "\n",
        "Colaboração: \\\n",
        "Centro de Modelagem Estatística em Ciências Ambientais (Ce-MECA - UFSCar)\n",
        "\n",
        "e\n",
        "\n",
        "Projeto de extensão \"Data Science na Lagoa do Sino: estruturação do conhecimento e aplicações tecnológicas\".\n",
        "\n"
      ],
      "metadata": {
        "id": "f0Nj7nGPGBXY"
      }
    },
    {
      "cell_type": "markdown",
      "source": [
        "## Sumário\n",
        "\n",
        "- [ ] Descrições univariadas\n",
        "  - [X] Gráfico de barras (ou colunas)\n",
        "  - [X] Gráfico de setores \n",
        "  - [ ] Tabela de frequências \n",
        "  - [ ] Diagrama de caixas\n",
        "  - [ ] Histograma\n",
        "  - [ ] Densidade estimada\n",
        "  - [ ] Gráfico de ramos-e-folhas \n",
        "- [ ] Descrições bivariadas \n",
        "  - [ ] Tabela de Contingência\n",
        "  - [ ] Gráficos de Barras / Colunas\n",
        "  - [ ] Diagrama de Caixas\n",
        "  - [ ] Gráfico de médias \n",
        "  - [ ] Diagrama de dispersão\n",
        "- [ ] Desafios"
      ],
      "metadata": {
        "id": "1eIHf1mqH9Zw"
      }
    },
    {
      "cell_type": "markdown",
      "source": [
        "## Sobre o Banco de dados\n",
        "\n",
        "Nesta etapa, será usado o banco de dados `mtcars` disponível como exemplo no sistema R. Informações detalhadas a respeito deste banco de dados podem ser encontradas [aqui](https://www.rdocumentation.org/packages/datasets/versions/3.6.2/topics/mtcars).  \n",
        "\n",
        "\n"
      ],
      "metadata": {
        "id": "S9xNG1_0JZHl"
      }
    },
    {
      "cell_type": "markdown",
      "source": [
        ""
      ],
      "metadata": {
        "id": "wkJoW4JYb2p9"
      }
    },
    {
      "cell_type": "markdown",
      "source": [
        "### Preparação"
      ],
      "metadata": {
        "id": "FP5kbefINsNQ"
      }
    },
    {
      "cell_type": "code",
      "execution_count": null,
      "metadata": {
        "id": "IPLRHPCsGAV9"
      },
      "outputs": [],
      "source": [
        "# Carregando a extensão que converte R em Python\n",
        "%load_ext rpy2.ipython"
      ]
    },
    {
      "cell_type": "code",
      "source": [
        "# Carregando o banco de dados de exemplo\n",
        "%%R\n",
        "data(mtcars)\n",
        "head(mtcars)"
      ],
      "metadata": {
        "colab": {
          "base_uri": "https://localhost:8080/"
        },
        "id": "mFhAAq5WOm2u",
        "outputId": "221b1b88-8a05-4c85-d642-d4db4af3523f"
      },
      "execution_count": null,
      "outputs": [
        {
          "output_type": "stream",
          "name": "stdout",
          "text": [
            "                   mpg cyl disp  hp drat    wt  qsec vs am gear carb\n",
            "Mazda RX4         21.0   6  160 110 3.90 2.620 16.46  0  1    4    4\n",
            "Mazda RX4 Wag     21.0   6  160 110 3.90 2.875 17.02  0  1    4    4\n",
            "Datsun 710        22.8   4  108  93 3.85 2.320 18.61  1  1    4    1\n",
            "Hornet 4 Drive    21.4   6  258 110 3.08 3.215 19.44  1  0    3    1\n",
            "Hornet Sportabout 18.7   8  360 175 3.15 3.440 17.02  0  0    3    2\n",
            "Valiant           18.1   6  225 105 2.76 3.460 20.22  1  0    3    1\n"
          ]
        }
      ]
    },
    {
      "cell_type": "markdown",
      "source": [
        "### Distribuições Univariadas\n",
        "\n",
        "A variável `cyl` é o número de cilindros que cada modelo de carro apresenta no banco de dados. \n",
        "\n",
        "Para acessar esta variável individualmente, na forma de `vetor`, basta usar o comando `mtcars$cyl`.  \n"
      ],
      "metadata": {
        "id": "Pg1ZygcpO6o_"
      }
    },
    {
      "cell_type": "markdown",
      "source": [
        "#### Gráfico de barras\n",
        "\n",
        "Gráficos de barras e colunas são úteis para explorar a distribuição de frequências de variáveis categóricas, nominais ou ordinais, mas também podem ser usados para variáveis quantitativas discretas quando há poucos resultados possíveis (ex.: número de gols por partida do meu time no Campeonato Brasileiro).\n",
        "\n",
        "O primeiro gráfico de barras do qual se tem notícia foi publicado em [Exports and Imports of Scotland to and from different parts for one Year from Christmas 1780 to Christmas 1781](https://commons.wikimedia.org/wiki/File:Playfair_Barchart.gif), cujo autor é Willian Playfair.\n",
        "\n",
        "O primeiro passo para a construção de um gráfico de barras ou colunas é o cálculo das frequências (absolutas ou relativas).\n"
      ],
      "metadata": {
        "id": "gwSN-oiZPqLX"
      }
    },
    {
      "cell_type": "code",
      "source": [
        "%%R\n",
        "# frequências absolutas\n",
        "table( mtcars$cyl ) "
      ],
      "metadata": {
        "colab": {
          "base_uri": "https://localhost:8080/"
        },
        "id": "W51TPQnNPn1n",
        "outputId": "4d789180-e1a6-45e5-8f99-355d158b2a2d"
      },
      "execution_count": null,
      "outputs": [
        {
          "output_type": "stream",
          "name": "stdout",
          "text": [
            "\n",
            " 4  6  8 \n",
            "11  7 14 \n"
          ]
        }
      ]
    },
    {
      "cell_type": "code",
      "source": [
        "%%R \n",
        "# frequências relativas\n",
        "prop.table( table(mtcars$cyl) ) "
      ],
      "metadata": {
        "colab": {
          "base_uri": "https://localhost:8080/"
        },
        "id": "pW1ZFTfhQ-CU",
        "outputId": "49d1214a-8173-4802-bb33-96dd9fd58ddf"
      },
      "execution_count": null,
      "outputs": [
        {
          "output_type": "stream",
          "name": "stdout",
          "text": [
            "\n",
            "      4       6       8 \n",
            "0.34375 0.21875 0.43750 \n"
          ]
        }
      ]
    },
    {
      "cell_type": "code",
      "source": [
        "%%R \n",
        "# percentuais\n",
        "100*prop.table( table(mtcars$cyl) )"
      ],
      "metadata": {
        "colab": {
          "base_uri": "https://localhost:8080/"
        },
        "id": "C2xqIoUXUSJi",
        "outputId": "f22d9286-6c85-43b2-c1eb-c94034de8d3c"
      },
      "execution_count": null,
      "outputs": [
        {
          "output_type": "stream",
          "name": "stdout",
          "text": [
            "\n",
            "     4      6      8 \n",
            "34.375 21.875 43.750 \n"
          ]
        }
      ]
    },
    {
      "cell_type": "code",
      "source": [
        "%%R\n",
        "barplot( table( mtcars$cyl ), xlab = \"Valores de Cyl\", ylab = \"Frequências\", cex.lab = 1.4 , col = c(\"black\", \"red\", \"blue\") )"
      ],
      "metadata": {
        "colab": {
          "base_uri": "https://localhost:8080/",
          "height": 497
        },
        "id": "HgyVjR8DRPXp",
        "outputId": "fc7c7e05-ea35-4684-99db-9736ae020f01"
      },
      "execution_count": null,
      "outputs": [
        {
          "output_type": "display_data",
          "data": {
            "image/png": "[encoded data removed]"
          },
          "metadata": {}
        }
      ]
    },
    {
      "cell_type": "markdown",
      "source": [
        "#### Gráfico de setores\n"
      ],
      "metadata": {
        "id": "xJ_XjjJDSjaS"
      }
    },
    {
      "cell_type": "code",
      "source": [
        "%%R \n",
        "pie( table( mtcars$cyl ), col = c(\"black\", \"red\", \"blue\"), labels = c(\"4 cilindros\", \"6 cilindros\", \"8 cilindros\") )"
      ],
      "metadata": {
        "colab": {
          "base_uri": "https://localhost:8080/",
          "height": 497
        },
        "id": "472I7Yf2Sn_C",
        "outputId": "9af8918a-b304-484e-c175-6f3f206dd71a"
      },
      "execution_count": null,
      "outputs": [
        {
          "output_type": "display_data",
          "data": {
            "image/png": "[encoded data removed]"
          },
          "metadata": {}
        }
      ]
    },
    {
      "cell_type": "code",
      "source": [
        ""
      ],
      "metadata": {
        "id": "EJhMkka5TEsK"
      },
      "execution_count": null,
      "outputs": []
    },
    {
      "cell_type": "code",
      "source": [
        "%%R \n",
        "# instalando pacote para pizza em 3D - executar apenas uma vez\n",
        "install.packages(\"plotrix\")\n",
        "\n"
      ],
      "metadata": {
        "id": "04COQXUUTGBu"
      },
      "execution_count": null,
      "outputs": []
    },
    {
      "cell_type": "code",
      "source": [
        "%%R\n",
        "library(plotrix)\n",
        "pie3D( table( mtcars$cyl ), col = c(\"white\", \"red\", \"blue\"), labels = c(\"4 cilindros\", \"6 cilindros\", \"8 cilindros\"), explode = 0.2 )"
      ],
      "metadata": {
        "colab": {
          "base_uri": "https://localhost:8080/",
          "height": 497
        },
        "id": "EbqXif0BTnrh",
        "outputId": "7186d920-9d04-4c6e-a718-28b45ddf74a4"
      },
      "execution_count": null,
      "outputs": [
        {
          "output_type": "display_data",
          "data": {
            "image/png": "[encoded data removed]"
          },
          "metadata": {}
        }
      ]
    },
    {
      "cell_type": "markdown",
      "source": [
        "#### Construindo a tabela de frequências "
      ],
      "metadata": {
        "id": "m9v1hR-QUHXa"
      }
    },
    {
      "cell_type": "code",
      "source": [
        "%%R\n",
        "# armazenando as frequências em tabela\n",
        "tf <- cbind( unique( mtcars$cyl ), table( mtcars$cyl ), prop.table( table( mtcars$cyl )), 100*prop.table( table( mtcars$cyl )))\n",
        "tf"
      ],
      "metadata": {
        "colab": {
          "base_uri": "https://localhost:8080/"
        },
        "id": "nn4Btij9UOKm",
        "outputId": "342a5468-4b48-4a42-f6d5-711d4d4ade18"
      },
      "execution_count": null,
      "outputs": [
        {
          "output_type": "stream",
          "name": "stdout",
          "text": [
            "  [,1] [,2]    [,3]   [,4]\n",
            "4    6   11 0.34375 34.375\n",
            "6    4    7 0.21875 21.875\n",
            "8    8   14 0.43750 43.750\n"
          ]
        }
      ]
    },
    {
      "cell_type": "code",
      "source": [
        "# atrbuindo nome às colunas\n",
        "%%R\n",
        "colnames(tf) <- c(\"Cyl\", \"Freq. Absoluta\", \"Freq. Relativa\", \"Percentuais\")\n",
        "tf"
      ],
      "metadata": {
        "colab": {
          "base_uri": "https://localhost:8080/"
        },
        "id": "GUvVD4nNVAVO",
        "outputId": "7269757a-f3a9-4f88-d54b-b4445008c5d3"
      },
      "execution_count": null,
      "outputs": [
        {
          "output_type": "stream",
          "name": "stdout",
          "text": [
            "  Cyl Freq. Absoluta Freq. Relativa Percentuais\n",
            "4   6             11        0.34375      34.375\n",
            "6   4              7        0.21875      21.875\n",
            "8   8             14        0.43750      43.750\n"
          ]
        }
      ]
    },
    {
      "cell_type": "markdown",
      "source": [
        "#### Diagrama de caixas \n",
        "\n",
        "As próximas visualizações são adequadas para variáveis quantitativas contínuas com grande multiplicidade de valores. Analisaremos a variável `qsec`, ou seja, o tempo necessário para o modelo atingir um quarto de milha. "
      ],
      "metadata": {
        "id": "f3PeRNmCXl6U"
      }
    },
    {
      "cell_type": "code",
      "source": [
        "%%R\n",
        "boxplot( mtcars$qsec , xlab = \"\", ylab = \"Tempo para 1/4 de milha\")"
      ],
      "metadata": {
        "id": "5Fj3mi2FYLHO"
      },
      "execution_count": null,
      "outputs": []
    },
    {
      "cell_type": "markdown",
      "source": [
        "#### Histograma"
      ],
      "metadata": {
        "id": "-cCjPGKmZe1z"
      }
    },
    {
      "cell_type": "code",
      "source": [
        "%%R\n",
        "hist( mtcars$qsec, xlab = \"Tempo (s)\", ylab = \"Frequência\", freq = FALSE )"
      ],
      "metadata": {
        "colab": {
          "base_uri": "https://localhost:8080/",
          "height": 497
        },
        "id": "o5WtigbmZiqr",
        "outputId": "1c6e92a3-f55d-463e-9199-1b5c1e956d1c"
      },
      "execution_count": null,
      "outputs": [
        {
          "output_type": "display_data",
          "data": {
            "image/png": "[encoded data removed]"
          },
          "metadata": {}
        }
      ]
    },
    {
      "cell_type": "markdown",
      "source": [
        "#### Densidade estimada"
      ],
      "metadata": {
        "id": "eCAeXzNiiJDq"
      }
    },
    {
      "cell_type": "code",
      "source": [
        "%%R\n",
        "hist( mtcars$qsec, xlab = \"Tempo (s)\", ylab = \"Frequência\", freq = FALSE )\n",
        "lines( density( mtcars$qsec ) , col=2)"
      ],
      "metadata": {
        "colab": {
          "base_uri": "https://localhost:8080/",
          "height": 497
        },
        "id": "NGYYJhSeZ408",
        "outputId": "39c96cbf-5018-449f-b27c-1db7fa0713e2"
      },
      "execution_count": null,
      "outputs": [
        {
          "output_type": "display_data",
          "data": {
            "image/png": "[encoded data removed]"
          },
          "metadata": {}
        }
      ]
    },
    {
      "cell_type": "markdown",
      "source": [
        "+ Uma pergunta é: há aderência à normalidade nos dados de `qsec`? "
      ],
      "metadata": {
        "id": "KA3zOG71aKSs"
      }
    },
    {
      "cell_type": "code",
      "source": [
        "%%R\n",
        "shapiro.test( mtcars$qsec )"
      ],
      "metadata": {
        "colab": {
          "base_uri": "https://localhost:8080/"
        },
        "id": "_R0DbB2aaUI2",
        "outputId": "32a836a0-b56c-4b9e-88ad-ec76d37a3433"
      },
      "execution_count": null,
      "outputs": [
        {
          "output_type": "stream",
          "name": "stdout",
          "text": [
            "\n",
            "\tShapiro-Wilk normality test\n",
            "\n",
            "data:  mtcars$qsec\n",
            "W = 0.97325, p-value = 0.5935\n",
            "\n"
          ]
        }
      ]
    },
    {
      "cell_type": "markdown",
      "source": [
        "A resposta é sim. Os dados de `qsec` podem ser considerados como normalmente distribuídos. Dessa forma, podemos ajustar um modelo normal para representar a distribuição dos dados. "
      ],
      "metadata": {
        "id": "GBiQY8MlaebE"
      }
    },
    {
      "cell_type": "code",
      "source": [
        "%%R\n",
        "print(mean( mtcars$qsec ))\n",
        "sd( mtcars$qsec ) "
      ],
      "metadata": {
        "colab": {
          "base_uri": "https://localhost:8080/"
        },
        "id": "ScWeErULat6z",
        "outputId": "1b19e99d-a958-419e-c15a-b814dc264b15"
      },
      "execution_count": null,
      "outputs": [
        {
          "output_type": "stream",
          "name": "stdout",
          "text": [
            "[1] 17.84875\n",
            "[1] 1.786943\n"
          ]
        }
      ]
    },
    {
      "cell_type": "code",
      "source": [
        "%%R\n",
        "t <- seq(12, 25, by = 0.1)\n",
        "hist( mtcars$qsec, xlab = \"Tempo (s)\", ylab = \"Frequência\", freq = FALSE )\n",
        "lines(t, dnorm(t, mean = 17.85, sd = 1.79 ) , col = 2, lwd = 3)"
      ],
      "metadata": {
        "colab": {
          "base_uri": "https://localhost:8080/",
          "height": 497
        },
        "outputId": "1f220020-b324-4cba-dc1a-5774b855dd43",
        "id": "_Gzf-GCgbBwv"
      },
      "execution_count": null,
      "outputs": [
        {
          "output_type": "display_data",
          "data": {
            "image/png": "[encoded data removed]"
          },
          "metadata": {}
        }
      ]
    },
    {
      "cell_type": "markdown",
      "source": [
        "#### Diagrama Ramos-e-Folhas\n",
        "\n"
      ],
      "metadata": {
        "id": "8sqXi6vBiRPB"
      }
    },
    {
      "cell_type": "code",
      "source": [
        "%%R\n",
        "stem( mtcars$qsec )"
      ],
      "metadata": {
        "colab": {
          "base_uri": "https://localhost:8080/"
        },
        "id": "lDwU1dQSiV_P",
        "outputId": "aea43c27-a3d0-4037-b191-cf809f1f9a14"
      },
      "execution_count": null,
      "outputs": [
        {
          "output_type": "stream",
          "name": "stdout",
          "text": [
            "\n",
            "  The decimal point is at the |\n",
            "\n",
            "  14 | 56\n",
            "  15 | 458\n",
            "  16 | 5799\n",
            "  17 | 00134468\n",
            "  18 | 00356699\n",
            "  19 | 459\n",
            "  20 | 002\n",
            "  21 | \n",
            "  22 | 9\n",
            "\n"
          ]
        }
      ]
    },
    {
      "cell_type": "markdown",
      "source": [
        "### Distribuições Bivariadas"
      ],
      "metadata": {
        "id": "EPY0I7ZYb50E"
      }
    },
    {
      "cell_type": "markdown",
      "source": [
        "#### Tabela de contingência\n",
        "\n"
      ],
      "metadata": {
        "id": "4MfAEWCNcnFU"
      }
    },
    {
      "cell_type": "code",
      "source": [
        "%%R \n",
        "table( mtcars$cyl, mtcars$am )"
      ],
      "metadata": {
        "colab": {
          "base_uri": "https://localhost:8080/"
        },
        "id": "lh132ul8ctGR",
        "outputId": "d14d66f7-1ecb-4c9a-9914-d07c1591ddfb"
      },
      "execution_count": null,
      "outputs": [
        {
          "output_type": "stream",
          "name": "stdout",
          "text": [
            "   \n",
            "     0  1\n",
            "  4  3  8\n",
            "  6  4  3\n",
            "  8 12  2\n"
          ]
        }
      ]
    },
    {
      "cell_type": "markdown",
      "source": [
        "Na amostra, o número de cilindros e o tipo de câmbio são fatores associados? Vamos realizar o teste chi-quadrado.\n"
      ],
      "metadata": {
        "id": "mFG7M9KGeunV"
      }
    },
    {
      "cell_type": "code",
      "source": [
        "%%R\n",
        "chisq.test( table( mtcars$cyl, mtcars$am ) )"
      ],
      "metadata": {
        "colab": {
          "base_uri": "https://localhost:8080/"
        },
        "id": "Av3jX3oKe6gt",
        "outputId": "9bfd794e-79ae-4c19-9a32-68a104f97f89"
      },
      "execution_count": null,
      "outputs": [
        {
          "output_type": "stream",
          "name": "stdout",
          "text": [
            "\n",
            "\tPearson's Chi-squared test\n",
            "\n",
            "data:  table(mtcars$cyl, mtcars$am)\n",
            "X-squared = 8.7407, df = 2, p-value = 0.01265\n",
            "\n"
          ]
        }
      ]
    },
    {
      "cell_type": "markdown",
      "source": [
        "Sim. Os fatores `cyl`e `am` estão associados ao nível de 5% de significância ($\\chi = 8.74, ~ g.l.  = 2 , ~ P = 0.0127$)"
      ],
      "metadata": {
        "id": "GCJfJep4fQ7e"
      }
    },
    {
      "cell_type": "code",
      "source": [
        "%%R \n",
        "prop.table( table( mtcars$cyl, mtcars$am ) )"
      ],
      "metadata": {
        "colab": {
          "base_uri": "https://localhost:8080/"
        },
        "outputId": "287187c2-8d74-4c9d-db38-b96bbdf6e5eb",
        "id": "3WMvHUEsdBec"
      },
      "execution_count": null,
      "outputs": [
        {
          "output_type": "stream",
          "name": "stdout",
          "text": [
            "   \n",
            "          0       1\n",
            "  4 0.09375 0.25000\n",
            "  6 0.12500 0.09375\n",
            "  8 0.37500 0.06250\n"
          ]
        }
      ]
    },
    {
      "cell_type": "markdown",
      "source": [
        "#### Gráfico de barras\n"
      ],
      "metadata": {
        "id": "y_7FYqmzdH4N"
      }
    },
    {
      "cell_type": "code",
      "source": [
        "%%R\n",
        "barplot( table( mtcars$cyl, mtcars$am ), xlab = \"Câmbio (0 = automático, 1 = Manual)\", ylab = \"Frequência\", beside = TRUE, \n",
        "        legend = c(\"4 cilindros\", \"6 cilindros\", \"8 cilindros\") )"
      ],
      "metadata": {
        "colab": {
          "base_uri": "https://localhost:8080/",
          "height": 497
        },
        "id": "6EB_Wp3RdLfH",
        "outputId": "888501e4-dce9-421f-d066-a3554590bc8a"
      },
      "execution_count": null,
      "outputs": [
        {
          "output_type": "display_data",
          "data": {
            "image/png": "[encoded data removed]"
          },
          "metadata": {}
        }
      ]
    },
    {
      "cell_type": "markdown",
      "source": [
        "#### Diagramas de caixas"
      ],
      "metadata": {
        "id": "hmgpthX_eUAP"
      }
    },
    {
      "cell_type": "markdown",
      "source": [
        "Agora vamos \"desdobrar\" a análise, e avaliar o `qsec` em função do modelo ser automático ou manual. "
      ],
      "metadata": {
        "id": "uC8nHy7sYj3L"
      }
    },
    {
      "cell_type": "code",
      "source": [
        "%%R\n",
        "boxplot( qsec ~ am, data = mtcars , xlab = \"\", ylab = \"Tempo para 1/4 de milha\")"
      ],
      "metadata": {
        "colab": {
          "base_uri": "https://localhost:8080/",
          "height": 497
        },
        "id": "yeFco_kzYucm",
        "outputId": "fa7c90de-5f5d-43af-900e-c5a4c693431e"
      },
      "execution_count": null,
      "outputs": [
        {
          "output_type": "display_data",
          "data": {
            "image/png": "[encoded data removed]"
          },
          "metadata": {}
        }
      ]
    },
    {
      "cell_type": "markdown",
      "source": [
        "#### Gráfico de Médias \n",
        "\n",
        "Qual é o tempo médio para o carro atingir um quarto de milha em função do tipo de câmbio? "
      ],
      "metadata": {
        "id": "y34YFkCIfwjn"
      }
    },
    {
      "cell_type": "code",
      "source": [
        "%%R\n",
        "medias <- tapply( mtcars$qsec, mtcars$am, mean )\n",
        "print( medias )"
      ],
      "metadata": {
        "colab": {
          "base_uri": "https://localhost:8080/"
        },
        "id": "Iwgkx4-lgJqn",
        "outputId": "8c850d5e-196a-4a75-9222-9d95a0ba2d07"
      },
      "execution_count": null,
      "outputs": [
        {
          "output_type": "stream",
          "name": "stdout",
          "text": [
            "       0        1 \n",
            "18.18316 17.36000 \n"
          ]
        }
      ]
    },
    {
      "cell_type": "code",
      "source": [
        "%%R\n",
        "barplot( medias, xlab = \"Câmbio (0 = Automático, 1 = Manual)\", ylab = \"Tempo médio (s)\", col = c(\"red\", \"blue\"), ylim = c(0, 20))"
      ],
      "metadata": {
        "colab": {
          "base_uri": "https://localhost:8080/",
          "height": 497
        },
        "id": "4B_Mjq4IgikP",
        "outputId": "d3afe48c-601b-43a1-cd58-2b1b0f34699a"
      },
      "execution_count": null,
      "outputs": [
        {
          "output_type": "display_data",
          "data": {
            "image/png": "[encoded data removed]"
          },
          "metadata": {}
        }
      ]
    },
    {
      "cell_type": "markdown",
      "source": [
        "Agora qual é o tempo médio para atingir 1/4 de milha em função do número de cilindros? "
      ],
      "metadata": {
        "id": "zoOAQKBAhKgg"
      }
    },
    {
      "cell_type": "code",
      "source": [
        "%%R\n",
        "medias_2 <- tapply( mtcars$qsec, mtcars$cyl, mean )\n",
        "print( medias_2 )"
      ],
      "metadata": {
        "colab": {
          "base_uri": "https://localhost:8080/"
        },
        "outputId": "5b7ebd2f-3df3-4a00-e1c9-fe55979b186e",
        "id": "rjiAwo9EhUmE"
      },
      "execution_count": null,
      "outputs": [
        {
          "output_type": "stream",
          "name": "stdout",
          "text": [
            "       4        6        8 \n",
            "19.13727 17.97714 16.77214 \n"
          ]
        }
      ]
    },
    {
      "cell_type": "code",
      "source": [
        "%%R\n",
        "barplot( medias_2, xlab = \"Número de Cilindros\", ylab = \"Tempo médio (s)\", col = c(\"red\", \"blue\",\"black\"), ylim = c(0, 20))"
      ],
      "metadata": {
        "colab": {
          "base_uri": "https://localhost:8080/",
          "height": 497
        },
        "id": "MIhkqi_6heJm",
        "outputId": "b4b54722-c1e0-403c-c14e-78582dc32222"
      },
      "execution_count": null,
      "outputs": [
        {
          "output_type": "display_data",
          "data": {
            "image/png": "[encoded data removed]"
          },
          "metadata": {}
        }
      ]
    },
    {
      "cell_type": "markdown",
      "source": [
        "#### Diagrama de Dispersão\n",
        "\n",
        "Nesta etapa iremos avaliar o relacionamento de duas variáveis quantitativas contínuas (`qsec` e `hp`). "
      ],
      "metadata": {
        "id": "yH5GAJAdjjbw"
      }
    },
    {
      "cell_type": "code",
      "source": [
        "%%R\n",
        "plot( qsec ~ hp, data = mtcars, ylab = \"Tempo para atingir 1/4 de milhas\", xlab = \"Cavalos de Potência\", cex.lab = 1.3, cex = 2, pch = 19)"
      ],
      "metadata": {
        "colab": {
          "base_uri": "https://localhost:8080/",
          "height": 497
        },
        "id": "ymZxLYLSjmdf",
        "outputId": "51b187aa-76c5-43cd-e732-cf6af12c3768"
      },
      "execution_count": null,
      "outputs": [
        {
          "output_type": "display_data",
          "data": {
            "image/png": "[encoded data removed]"
          },
          "metadata": {}
        }
      ]
    },
    {
      "cell_type": "markdown",
      "source": [
        "### **Desafios**\n",
        "\n",
        "<details>\n",
        "<summary> Desafio 1 </summary>\n",
        "Construa um gráfico de barras para visualizar a distribuição da variável `am` (tipo de câmbio) em percentuais. Adicione rótulos dos eixos `x` e `y` e cores. Altere também o tamanho dos caracteres nos rótulos.\n",
        "</details>\n",
        "\n",
        "\n",
        "<details>\n",
        "<summary> Desafio 2 </summary>\n",
        "Carregue o banco de dados de nome `iris` e inspecione as variáveis existentes. Quantas variáveis são quantitativas? E qualitativas? Como acessar apenas a coluna com os nomes das espécies? \n",
        "</details>\n",
        "\n",
        "\n",
        "<details>\n",
        "<summary> Desafio 3 </summary>\n",
        "Imprima as linhas 2, 3, 6, 7, e 10 do banco de dados `mtcars` excluindo a quarta coluna. \n",
        "</details>\n",
        "\n",
        "<details>\n",
        "<summary> Desafio 4 </summary>\n",
        "Calcule a média, a variância e o desvio-padrão da variável `qsec`, do objeto `mtcars`. (Dica: consulte o notebook da aula passada sobre \"Introdução ao R\")\n",
        "</details>\n",
        "\n",
        "\n",
        "\n",
        "\n",
        "\n",
        "\n",
        "\n",
        "\n",
        "\n",
        "\n",
        "\n"
      ],
      "metadata": {
        "id": "kt0bjQ5RKqCK"
      }
    }
  ]
}