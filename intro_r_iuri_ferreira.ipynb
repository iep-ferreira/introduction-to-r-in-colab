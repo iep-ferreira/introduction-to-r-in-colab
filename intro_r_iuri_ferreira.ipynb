{
  "nbformat": 4,
  "nbformat_minor": 0,
  "metadata": {
    "colab": {
      "name": "intro-r-iuri-ferreira.ipynb",
      "provenance": [],
      "collapsed_sections": [],
      "toc_visible": true,
      "authorship_tag": "ABX9TyMU0ipV00YASb5kbMPmQXMu",
      "include_colab_link": true
    },
    "kernelspec": {
      "name": "python3",
      "display_name": "Python 3"
    },
    "language_info": {
      "name": "python"
    }
  },
  "cells": [
    {
      "cell_type": "markdown",
      "metadata": {
        "id": "view-in-github",
        "colab_type": "text"
      },
      "source": [
        "<a href=\"https://colab.research.google.com/github/iep-ferreira/introduction-to-r-in-colab/blob/main/intro_r_iuri_ferreira.ipynb\" target=\"_parent\"><img src=\"https://colab.research.google.com/assets/colab-badge.svg\" alt=\"Open In Colab\"/></a>"
      ]
    },
    {
      "cell_type": "markdown",
      "source": [
        "# Aula de Introdução à Linguagem R \n",
        "\n",
        "*UFSCar Lagoa do Sino* \\\n",
        "Prof. Dr. Iuri Emmanuel de Paula Ferreira \\  \n",
        "contato: iuri@ufscar.br \\\n",
        "Atualizada em: agosto de 2022\n",
        "\n",
        "\\\\\n",
        "\n",
        "Colaboração: \\\n",
        "Centro de Modelagem Estatística em Ciências Ambientais (Ce-MECA - UFSCar)\\\n",
        "e\\\n",
        "Projeto de extensão \"Data Science na Lagoa do Sino: _estruturação do conhecimento e aplicações tecnológicas_\".    \n",
        "\n"
      ],
      "metadata": {
        "id": "TVlxYM8V_rrM"
      }
    },
    {
      "cell_type": "markdown",
      "source": [
        "# Sumário \n",
        "\n",
        "  - [X] Configurações do R no Colab\n",
        "  - [ ] Apresentação do R\n",
        "  - [ ] Instalação, interface e execução dos códigos\n",
        "  - [ ] Tipos de dados\n",
        "  - [ ] Operações Básicas\n",
        "  - [ ] Estrutura de dados\n",
        "    - [ ] arrays e vetores \n",
        "    - [ ] matrizes e dataframes\n",
        "  - [ ] Desafios (em elaboração...)"
      ],
      "metadata": {
        "id": "6PygAZIobZqR"
      }
    },
    {
      "cell_type": "markdown",
      "source": [
        "# Como usar o R no google colab? \n",
        "\n",
        "Pessoal, encontrei esta sequência de passos que facilita a nossa vida, isso através da biblioteca [rmagic](https://rpy2.github.io/doc/latest/html/interactive.html):\n",
        "\n",
        "  + \"How to use R and Python together in Colab\n",
        "\n",
        "  +  Open your favorite browser.\n",
        "\n",
        "  + Create a new notebook: https://colab.research.google.com/#create=true.\n",
        "\n",
        "  + Run rmagic by executing this command `%load_ext rpy2.ipython`.\n",
        "\n",
        "  + After that, every time you want to use R, add %%R in the beginning of each cell.\"\n",
        "\n",
        "Fonte: <https://towardsdatascience.com/how-to-use-r-in-google-colab-b6e02d736497>  "
      ],
      "metadata": {
        "id": "4Jrp408d2r_m"
      }
    },
    {
      "cell_type": "code",
      "source": [
        "!pip install rpy2==3.4.5"
        "%load_ext rpy2.ipython"
      ],
      "metadata": {
        "id": "jxbYsr_R3RSm"
      },
      "execution_count": null,
      "outputs": []
    },
    {
      "cell_type": "markdown",
      "source": [
        "## Exemplos (R Magic)"
      ],
      "metadata": {
        "id": "3NNW2kSK4gFZ"
      }
    },
    {
      "cell_type": "markdown",
      "source": [
        "+ Exemplo 1: calculando estatísticas descritivas a partir de um vetor de dados"
      ],
      "metadata": {
        "id": "E_tMSajH4l06"
      }
    },
    {
      "cell_type": "code",
      "source": [
        "%%R\n",
        "x <- rnorm(100, mean = 0, sd = 3)\n",
        "print(mean(x)); print(sd(x)); print(var(x))"
      ],
      "metadata": {
        "colab": {
          "base_uri": "https://localhost:8080/"
        },
        "id": "QzQB7Jkr44c9",
        "outputId": "cce58aa1-bf25-4c92-ec34-b2919e3da754"
      },
      "execution_count": null,
      "outputs": [
        {
          "output_type": "stream",
          "name": "stdout",
          "text": [
            "[1] 0.02294798\n",
            "[1] 2.957777\n",
            "[1] 8.748444\n"
          ]
        }
      ]
    },
    {
      "cell_type": "markdown",
      "source": [
        "+ Exemplo 2: fazendo um gráfico através do R"
      ],
      "metadata": {
        "id": "ko9plkkK5gOT"
      }
    },
    {
      "cell_type": "code",
      "source": [
        "%%R\n",
        "x <- rnorm(1000000, mean = 10, sd = 5)\n",
        "t <- seq(-10, 30, by = 0.1)\n",
        "hist(x, freq = FALSE, xlab = \"Valores Simulados\", ylab = \"Frequência Relativa\", main = \"\", breaks = -50:80) \n",
        "lines(density(x), lwd=2, col=2)\n"
      ],
      "metadata": {
        "colab": {
          "base_uri": "https://localhost:8080/",
          "height": 497
        },
        "id": "viySI9y65lOG",
        "outputId": "43072193-0b1d-4f5c-ca08-4d446efb16ff"
      },
      "execution_count": null,
      "outputs": [
        {
          "output_type": "display_data",
          "data": {
            "image/png": "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\n"
          },
          "metadata": {}
        }
      ]
    },
    {
      "cell_type": "markdown",
      "source": [
        "\n",
        "# Apresentação\n",
        "\n",
        "<div align = \"justify\"> \n",
        "\n",
        "R é uma linguagem de programação criada por Ross Ihaka e \n",
        "Robert Gentleman, na universidade de Auckland, Nova Zelândia, \n",
        "em meados dos anos 1990. A linguagem R foi uma adaptação da \n",
        "linguagem S, criada por John Chambers em 1976, nos laboratórios \n",
        "Bell. </p>\n",
        "\n",
        "R também denomina um programa computacional destinado a análises estatísticas e visualização de dados. O programa R é livre ( _General Public License_ ) e possui código-fonte aberto, sendo aprimorado continuamente por uma rede global de colaboradores, a partir da _R Foundation for Statistical Computing_ , sediada em Viena, na Áustria. </p>\n",
        "\n",
        "A linguagem R vem se tornando cada vez mais utilizada, passando da 19º posição em 2019 ao 9º lugar em 2020 em popularidade, conforme _The TIOBE Programming Community index_ . \n",
        "\n",
        "</div>   \n",
        "\n",
        "\n",
        "\n"
      ],
      "metadata": {
        "id": "LNbzr6s38AOw"
      }
    },
    {
      "cell_type": "markdown",
      "source": [
        "# Instalação, interface e execução de códigos  \n",
        "\n",
        "<div align = \"justify\"> \n",
        "\n",
        "Para instalar o R, clique no link [instalação](https://cran.r-project.org/). O usuário deverá escolher o arquivo de acordo com o seu sistema operacional. Detalhes sobre como usar o R pela primeira vez são expostos no vídeo que acompanha esta aula (AVA 2 - UFSCar). \n",
        "\n",
        "O R é uma linguagem interpretada. Isso significa que partes do código podem ser executadas diretamente do interpretador (interface R), sem a necessidade de compilar todo código e montar um arquivo executável (.exe). Dessa forma, o usuário seleciona o pedaço do código que deseja executar e, de imediato, tem o resultado impresso no terminal de saída ou na janela gráfica. Se houver erro de sintaxe/interpretação, o programa exibirá um alerta no terminal de saída.   \n",
        "\n",
        "Após abrir a interface R, o usuário deverá criar um script (.txt ou .R) no qual os comandos serão salvos. Para executar um bloco de comandos, o usuário deverá selecioná-lo com o cursor do mouse (deixando-o em realce) e, então, pressionar \"F5\" ou \"CTRL+ENTER\", a depender da interface em uso. Outra opção é executar o comando, linha a linha, até completar o bloco de comandos desejado. \n",
        "\n",
        "Se o terminal de saída apresentar o símbolo \"+\", isso significa que algum comando ainda não foi finalizado e o programa aguarda sua conclusão. Às vezes, a execução das linhas de comando não segue a ordem correta e o programa \"trava\" com o sinal de \"+\" e, nesse caso, é preciso \"matar\" o processo clicando no botão \"Stop\". \n",
        "\n",
        "No R, os resultados podem ser obtidos a partir do uso de funções/expressões ou serem atribuídos a variáveis e gravados\n",
        "na memória do computador. Há diversas formas de atribuir valores \n",
        "a uma variável: nome <- valor; valor -> nome; nome = valor. \n",
        "Tanto \"->\" como \"=\" funcionam como comandos de atribuição. Uma vantagem do R é o fato de não ser requerida a declaração/inicialização de variáveis, tipos e tamanhos ao início do programa, como é comum em outras linguagens. R é uma linguagem _case sensitive_, isso significa que letras maiúsculas e minúsculas são diferenciadas no programa. Portanto, uma variável de nome \"x\" será diferente de outra com nome \"X\".\n",
        "\n",
        "</div>\n",
        "\n",
        "\n",
        "\n"
      ],
      "metadata": {
        "id": "TP4wihn3_8zi"
      }
    },
    {
      "cell_type": "code",
      "source": [
        "%%R\n",
        "# Cálculo a partir de expressão\n",
        "sin(0.5)\n"
      ],
      "metadata": {
        "colab": {
          "base_uri": "https://localhost:8080/"
        },
        "id": "P0kXuR8ZCFP9",
        "outputId": "c0195d62-175b-47b2-d13b-cb47e73427e7"
      },
      "execution_count": null,
      "outputs": [
        {
          "output_type": "stream",
          "name": "stdout",
          "text": [
            "[1] 0.4794255\n"
          ]
        }
      ]
    },
    {
      "cell_type": "code",
      "source": [
        "%%R\n",
        "# Valores atribuídos a variáveis locais\n",
        "x <- 5\n",
        "10 -> X\n"
      ],
      "metadata": {
        "id": "taAKuD7QCUsl"
      },
      "execution_count": null,
      "outputs": []
    },
    {
      "cell_type": "code",
      "source": [
        "%%R\n",
        "# Diferença entre as variáveis \"x\" e \"X\"\n",
        "print( sprintf(\"O valor de 5 vezes x é: %d\", 5*x) ); sprintf(\"O valor de 5 vezes X é: %d\", 5*X)"
      ],
      "metadata": {
        "colab": {
          "base_uri": "https://localhost:8080/"
        },
        "id": "wg2A1YcBCW_H",
        "outputId": "3684f387-ff20-4a40-d46d-e96bc4cbe575"
      },
      "execution_count": null,
      "outputs": [
        {
          "output_type": "stream",
          "name": "stdout",
          "text": [
            "[1] \"O valor de 5 vezes x é: 25\"\n",
            "[1] \"O valor de 5 vezes X é: 50\"\n"
          ]
        }
      ]
    },
    {
      "cell_type": "markdown",
      "source": [
        "<div align = \"justify\"> \n",
        "\n",
        "Geralmente, o programador quebra linha entre comandos diferentes e \n",
        "executa uma linha por vez. Entretanto, há a opção de listar inúmeros \n",
        "comandos na mesma linha, separando-os por ponto-e-vírgula. \n",
        "\n",
        "Textos que seguem \"#\" são comentários e, portanto, são desconsiderados pelo interpretador durante a execução do programa. Servem apenas para orientar os programadores/leitores do código.\n",
        "\n",
        "</div>"
      ],
      "metadata": {
        "id": "mtJMt7vmClch"
      }
    },
    {
      "cell_type": "code",
      "source": [
        "%%R\n",
        "# Programa: a parábola ax^2 + bx + c tem duas raízes reais?\n",
        "print(\"Vamos fazer um programa para dizer se a parábola ax^2 + bx + c tem raízes reais.\")\n",
        "a <- as.numeric(readline(\"Escreva o valor do coeficiente a: \" ))\n",
        "b <- as.numeric(readline(\"Escreva o valor do coeficiente b: \" ))\n",
        "c <- as.numeric(readline(\"Escreva o valor do coeficiente c: \" ))\n",
        "# Cálculo do disciminante\n",
        "delta <- b^2-4*a*c\n",
        "# Se o discriminante é maior ou igual a zero, há raízes reais. \n",
        "if(delta >= 0){ \n",
        "   print(\"Sim! A parábola tem raízes reais.\") \n",
        "} else{ print(\"Não. A parábola não tem raízes reais.\")}\n"
      ],
      "metadata": {
        "colab": {
          "base_uri": "https://localhost:8080/"
        },
        "id": "K8F1tAJjEg31",
        "outputId": "34b8a08f-5fe7-45f6-9333-fc7c1eb5373c"
      },
      "execution_count": null,
      "outputs": [
        {
          "output_type": "stream",
          "name": "stdout",
          "text": [
            "[1] \"Vamos fazer um programa para dizer se a parábola ax^2 + bx + c tem raízes reais.\"\n",
            "Escreva o valor do coeficiente a: 5\n",
            "Escreva o valor do coeficiente b: 3\n",
            "Escreva o valor do coeficiente c: 7\n",
            "[1] \"Não. A parábola não tem raízes reais.\"\n"
          ]
        }
      ]
    },
    {
      "cell_type": "markdown",
      "source": [
        "# Tipos de dados\n",
        "\n",
        "<div align = \"justify\"> \n",
        "\n",
        "Há diversos tipos de dados que podem ser armazenados na memória do computador e manipulados a partir do programa R. Os dados podem ser \n",
        "numéricos (reais ou inteiros), lógicos (verdadeiro ou falso), \n",
        "caracteres (sequências alfanuméricas), números complexos ou funções.\n",
        "\n",
        "</div>"
      ],
      "metadata": {
        "id": "4yo01hpQGwg0"
      }
    },
    {
      "cell_type": "markdown",
      "source": [
        "  + Dado numérico real (ponto flutuante)\n",
        "\n",
        " "
      ],
      "metadata": {
        "id": "X18c1akgHAVE"
      }
    },
    {
      "cell_type": "code",
      "source": [
        "%%R\n",
        "1/3"
      ],
      "metadata": {
        "colab": {
          "base_uri": "https://localhost:8080/"
        },
        "id": "0wa6J_zRGyg_",
        "outputId": "d713d709-e65d-4ccd-c233-9b90eeda092a"
      },
      "execution_count": null,
      "outputs": [
        {
          "output_type": "stream",
          "name": "stdout",
          "text": [
            "[1] 0.3333333\n"
          ]
        }
      ]
    },
    {
      "cell_type": "markdown",
      "source": [
        "  + Dado numérico inteiro\n",
        "  \n",
        "\n"
      ],
      "metadata": {
        "id": "Al40NnazHR6z"
      }
    },
    {
      "cell_type": "code",
      "source": [
        "%%R\n",
        "as.integer(1/3)"
      ],
      "metadata": {
        "colab": {
          "base_uri": "https://localhost:8080/"
        },
        "id": "_ZT9Y63-HgPf",
        "outputId": "592a34ca-1f09-431f-8c83-059c4bba9d1e"
      },
      "execution_count": null,
      "outputs": [
        {
          "output_type": "stream",
          "name": "stdout",
          "text": [
            "[1] 0\n"
          ]
        }
      ]
    },
    {
      "cell_type": "markdown",
      "source": [
        "  + Dado lógico"
      ],
      "metadata": {
        "id": "dCSLloOjHsUE"
      }
    },
    {
      "cell_type": "code",
      "source": [
        "%%R\n",
        "x > X"
      ],
      "metadata": {
        "colab": {
          "base_uri": "https://localhost:8080/"
        },
        "id": "2d3AYutkHvkM",
        "outputId": "d27d2c83-63ba-4331-e9fe-481ce9271e31"
      },
      "execution_count": null,
      "outputs": [
        {
          "output_type": "stream",
          "name": "stdout",
          "text": [
            "[1] FALSE\n"
          ]
        }
      ]
    },
    {
      "cell_type": "markdown",
      "source": [
        "  + Caracteres, Strings ou Palavras (Alfabéticas ou Alfanuméricas) "
      ],
      "metadata": {
        "id": "cVEvUg7kH0kP"
      }
    },
    {
      "cell_type": "code",
      "source": [
        "%%R\n",
        "nome <- \"Nivaldo Rolando Pedreira\"\n",
        "class(nome)"
      ],
      "metadata": {
        "colab": {
          "base_uri": "https://localhost:8080/"
        },
        "id": "Sv4PZCw4IQK-",
        "outputId": "0e1cebcd-a5f9-4684-aecd-420f148d7705"
      },
      "execution_count": null,
      "outputs": [
        {
          "output_type": "stream",
          "name": "stdout",
          "text": [
            "[1] \"character\"\n"
          ]
        }
      ]
    },
    {
      "cell_type": "markdown",
      "source": [
        "  + Função \n",
        "  "
      ],
      "metadata": {
        "id": "lzNfaKCqJdwi"
      }
    },
    {
      "cell_type": "code",
      "source": [
        "%%R\n",
        "class(exp) "
      ],
      "metadata": {
        "colab": {
          "base_uri": "https://localhost:8080/"
        },
        "id": "-6g3usZnJkSo",
        "outputId": "de199804-fdc4-44a7-83f3-658a5e264596"
      },
      "execution_count": null,
      "outputs": [
        {
          "output_type": "stream",
          "name": "stdout",
          "text": [
            "[1] \"function\"\n",
            "NULL\n"
          ]
        }
      ]
    },
    {
      "cell_type": "markdown",
      "source": [
        "<div align = \"justify\"> \n",
        "\n",
        "O comando _class_ retorna o tipo do dado guardado no objeto que entra como argumento da função (entre parênteses). \n",
        "\n",
        "Se o leitor tiver dúvidas sobre algum comando, pode utilizar a função \n",
        "_help_. Para testar, digite no console: _help(\"sum\")_.\n",
        "\n",
        "</div>"
      ],
      "metadata": {
        "id": "6vulBwYLKHGy"
      }
    },
    {
      "cell_type": "markdown",
      "source": [
        "  + Vamos fazer uma função que calcula a média? "
      ],
      "metadata": {
        "id": "tT_9_KdSjEcm"
      }
    },
    {
      "cell_type": "code",
      "source": [
        "%%R\n",
        "calcula_media <- function(x){\n",
        "\n",
        "# ... processamento ...\n",
        "soma <- sum(x)\n",
        "n <- length(x)\n",
        "media <- soma/n    \n",
        "\n",
        "return(media)\n",
        "}"
      ],
      "metadata": {
        "id": "pkCyf7FFjMqP"
      },
      "execution_count": null,
      "outputs": []
    },
    {
      "cell_type": "code",
      "source": [
        "%%R\n",
        "x <- c(19, 17, 23, 54, 12, 35, 18)\n",
        "calcula_media(x) "
      ],
      "metadata": {
        "colab": {
          "base_uri": "https://localhost:8080/"
        },
        "id": "lTlRHkByj3XV",
        "outputId": "fab195a2-7f3a-410e-95fd-cf304e739d5e"
      },
      "execution_count": null,
      "outputs": [
        {
          "output_type": "stream",
          "name": "stdout",
          "text": [
            "[1] 25.42857\n"
          ]
        }
      ]
    },
    {
      "cell_type": "markdown",
      "source": [
        "# Operações Básicas e Funções Matemáticas\n",
        "\n",
        "No R, as operações aritméticas são definidas de maneira intuitiva. "
      ],
      "metadata": {
        "id": "7KZESi8CKSrY"
      }
    },
    {
      "cell_type": "code",
      "source": [
        "%%R\n",
        "l<-23\n",
        "print(l^2+2*l)\n",
        "print(3*2+2)\n",
        "print(3*(2+2))\n",
        "print(l/3)\n"
      ],
      "metadata": {
        "colab": {
          "base_uri": "https://localhost:8080/"
        },
        "id": "eds43LkyKT9L",
        "outputId": "b04b9752-6ffb-419d-950c-5b9a27731808"
      },
      "execution_count": null,
      "outputs": [
        {
          "output_type": "stream",
          "name": "stdout",
          "text": [
            "[1] 575\n",
            "[1] 8\n",
            "[1] 12\n",
            "[1] 7.666667\n"
          ]
        }
      ]
    },
    {
      "cell_type": "markdown",
      "source": [
        "Mais operações matemáticas são listadas   [aqui](https://stat.ethz.ch/R-manual/R-devel/library/base/html/Arithmetic.html). \n",
        "\n",
        "Além disso, diversas funções matemáticas são pré-definidas no R. \n"
      ],
      "metadata": {
        "id": "VFi0zwWdNjw5"
      }
    },
    {
      "cell_type": "code",
      "source": [
        "%%R\n",
        "# Arredondar (duas casas decimais)\n",
        "round(17/3,2)"
      ],
      "metadata": {
        "colab": {
          "base_uri": "https://localhost:8080/"
        },
        "id": "FOt8BSN0Nljj",
        "outputId": "045aae5b-14da-4e6f-f204-870bf5abd05a"
      },
      "execution_count": null,
      "outputs": [
        {
          "output_type": "stream",
          "name": "stdout",
          "text": [
            "[1] 5.67\n"
          ]
        }
      ]
    },
    {
      "cell_type": "code",
      "source": [
        "%%R\n",
        "# seno, cosseno, tangente, arco-tangente, tengente hiperbólica\n",
        "print( list(sin(pi), cos(pi), tan(pi), atan(0.5), tanh(0.5)) )"
      ],
      "metadata": {
        "colab": {
          "base_uri": "https://localhost:8080/"
        },
        "id": "J1Jy3h31Nu1C",
        "outputId": "35ba6e36-4aa5-4a03-fe1f-ba2e4c49baf2"
      },
      "execution_count": null,
      "outputs": [
        {
          "output_type": "stream",
          "name": "stdout",
          "text": [
            "[[1]]\n",
            "[1] 1.224647e-16\n",
            "\n",
            "[[2]]\n",
            "[1] -1\n",
            "\n",
            "[[3]]\n",
            "[1] -1.224647e-16\n",
            "\n",
            "[[4]]\n",
            "[1] 0.4636476\n",
            "\n",
            "[[5]]\n",
            "[1] 0.4621172\n",
            "\n"
          ]
        }
      ]
    },
    {
      "cell_type": "code",
      "source": [
        "%%R\n",
        "# raiz quadrado, exponencial, log natural, log na base 10 e módulo\n",
        "print( list(sqrt(4), exp(2), log(10), log10(10), abs(-6.5))  )"
      ],
      "metadata": {
        "colab": {
          "base_uri": "https://localhost:8080/"
        },
        "id": "DLgqkZw6OJAZ",
        "outputId": "168e3e65-8b1e-45f1-d433-f3e72dffcc33"
      },
      "execution_count": null,
      "outputs": [
        {
          "output_type": "stream",
          "name": "stdout",
          "text": [
            "[[1]]\n",
            "[1] 2\n",
            "\n",
            "[[2]]\n",
            "[1] 7.389056\n",
            "\n",
            "[[3]]\n",
            "[1] 2.302585\n",
            "\n",
            "[[4]]\n",
            "[1] 1\n",
            "\n",
            "[[5]]\n",
            "[1] 6.5\n",
            "\n"
          ]
        }
      ]
    },
    {
      "cell_type": "markdown",
      "source": [
        "<div align = \"justify\"> \n",
        "\n",
        "Por sua vez, comparações e controle de fluxo dependem de operadores \n",
        "lógicos, ou seja, que resultam em _TRUE_ ou _FALSE_. Observe que \"==\" \n",
        "não é um comando de atribuição, mas trata-se de uma comparação lógica de igualdade. Com comandos lógicos, também é possível estabelecer a união e \n",
        "a interseção entre conjuntos: \"(cond. 1)&(cond. 2)\" será verdade (_TRUE_) apenas se as condições 1 e 2 forem satisfeitas simultaneamente; por outro lado, \"(cond. 1)|(cond. 2)\" será verdade se a condição 1 ou a condição 2 (ou ambas) forem satisfeitas. \n",
        "\n",
        "</div>"
      ],
      "metadata": {
        "id": "pL1HaMcVObAh"
      }
    },
    {
      "cell_type": "code",
      "source": [
        "%%R\n",
        "print(\"Entre com um nome:\") \n",
        "nome <- readline()\n",
        "is.numeric(nome)\n",
        "\n"
      ],
      "metadata": {
        "colab": {
          "base_uri": "https://localhost:8080/"
        },
        "id": "4ibhj58MOc0T",
        "outputId": "ff184504-0d41-41d1-b623-323441250fac"
      },
      "execution_count": null,
      "outputs": [
        {
          "output_type": "stream",
          "name": "stdout",
          "text": [
            "[1] \"Entre com um nome:\"\n",
            "jose tobias\n",
            "[1] FALSE\n"
          ]
        }
      ]
    },
    {
      "cell_type": "code",
      "source": [
        "%%R\n",
        "is.character(nome)"
      ],
      "metadata": {
        "colab": {
          "base_uri": "https://localhost:8080/"
        },
        "id": "IWaOQaQ7R7MF",
        "outputId": "e6319d41-2bff-42b6-917a-285e91fd1274"
      },
      "execution_count": null,
      "outputs": [
        {
          "output_type": "stream",
          "name": "stdout",
          "text": [
            "[1] TRUE\n"
          ]
        }
      ]
    },
    {
      "cell_type": "code",
      "source": [
        "%%R\n",
        "# A variável é igual a 23? \n",
        "l==23\n",
        "# A variável é menor do que 15?\n",
        "print(l<15)\n",
        "# A variável é menor do que 23\n",
        "print(l<=23)\n",
        "# atribuição (nova variável)\n",
        "print(a<-17)\n"
      ],
      "metadata": {
        "colab": {
          "base_uri": "https://localhost:8080/"
        },
        "id": "E_LuegFuQevx",
        "outputId": "ea927eb8-10d8-444a-91ce-ee6cae226806"
      },
      "execution_count": null,
      "outputs": [
        {
          "output_type": "stream",
          "name": "stdout",
          "text": [
            "[1] TRUE\n",
            "[1] TRUE\n",
            "[1] 17\n"
          ]
        }
      ]
    },
    {
      "cell_type": "code",
      "source": [
        "# condição 1 E condição 2\n",
        "%%R \n",
        "(a<15)&(l>23)\n"
      ],
      "metadata": {
        "colab": {
          "base_uri": "https://localhost:8080/"
        },
        "id": "w4UpNQwzSfnj",
        "outputId": "54e270cf-caa1-4005-9967-94251d12b14b"
      },
      "execution_count": null,
      "outputs": [
        {
          "output_type": "stream",
          "name": "stdout",
          "text": [
            "[1] FALSE\n"
          ]
        }
      ]
    },
    {
      "cell_type": "code",
      "source": [
        "# condição 1 OU condição 2 \n",
        "%%R\n",
        "(a<15)|(l>23)\n"
      ],
      "metadata": {
        "colab": {
          "base_uri": "https://localhost:8080/"
        },
        "id": "iuQGrXuHSi6E",
        "outputId": "61fd5a35-965a-436a-9756-a78ad7e99ac9"
      },
      "execution_count": null,
      "outputs": [
        {
          "output_type": "stream",
          "name": "stdout",
          "text": [
            "[1] FALSE\n"
          ]
        }
      ]
    },
    {
      "cell_type": "markdown",
      "source": [
        "# Principais estruturas de dados   \n",
        "\n"
      ],
      "metadata": {
        "id": "9E-HUb9SS48M"
      }
    },
    {
      "cell_type": "markdown",
      "source": [
        "## Vetores\n",
        "\n",
        "<div align = \"justify\"> \n",
        "\n",
        "Vetor é o tipo de estrutura de dados mais simples. Trata-se de uma sequência de \"valores\" a serem armazenados na memória do computador. Observe que tais valores não são necessariamente números, mas podem ser nomes e/ou categorias ou valores lógicos (TRUE ou FALSE). Cada elemento de um vetor é um componente. \n",
        "\n",
        "Uma lista pode ser construída a partir da combinação de elementos do mesmo tipo, através do comando (*combine*). Sua sintaxe é *c(element 1, element 2, ...)* . Observe que os elementos são separados por vírgulas. Se os elementos forem números decimais, as unidades e os decimais serão separados por pontos, como na Língua Inglesa.\n",
        "\n",
        "</div>"
      ],
      "metadata": {
        "id": "LzjLBN3fX6a1"
      }
    },
    {
      "cell_type": "code",
      "source": [
        "%%R\n",
        "# Vetor c/ números inteiros de 1 a 10\n",
        "v<-c(1,2,3,4,5,6,7,8,9,10)\n",
        "# Impressão do vetor armazenado\n",
        "print(v)\n",
        "# Quinto elemento do vetor\n",
        "print(v[5])"
      ],
      "metadata": {
        "colab": {
          "base_uri": "https://localhost:8080/"
        },
        "id": "fdwr00VvS-b1",
        "outputId": "ce74d8f5-80ff-4e8a-927a-420b3e7b98a9"
      },
      "execution_count": null,
      "outputs": [
        {
          "output_type": "stream",
          "name": "stdout",
          "text": [
            " [1]  1  2  3  4  5  6  7  8  9 10\n",
            "[1] 5\n"
          ]
        }
      ]
    },
    {
      "cell_type": "code",
      "source": [
        "%%R\n",
        "# Vetor c/ nomes dos alunos\n",
        "nomes<-c(\"Raul\",\"Zulmira\",\"Edmilson\",\"Jaquelina\",\"Gabriela\",\"Hudson\")\n",
        "# Impressão do vetor armazenado\n",
        "nomes\n",
        "# Obs: Nomes e rótulos sempre devem ser incluídos com aspas duplas."
      ],
      "metadata": {
        "colab": {
          "base_uri": "https://localhost:8080/"
        },
        "id": "ZbBo-7uuTLqO",
        "outputId": "b9762f12-acce-4561-fbca-cd8be3904657"
      },
      "execution_count": null,
      "outputs": [
        {
          "output_type": "stream",
          "name": "stdout",
          "text": [
            "[1] \"Raul\"      \"Zulmira\"   \"Edmilson\"  \"Jaquelina\" \"Gabriela\"  \"Hudson\"   \n"
          ]
        }
      ]
    },
    {
      "cell_type": "code",
      "source": [
        "%%R\n",
        "# Vetor com valores lógicos \n",
        "# Quais elementos de v são divisíveis por 2?\n",
        "print(v%%2)\n",
        "# Observe que o operador %% indica a divisibilidade \n",
        "# (0 = não divisível / 1 = divisível)\n",
        "as.logical(v%%2)\n",
        "# Aqui os valores foram transformados em variáveis lógicas \n",
        "# (i.e. TRUE = Verdadeiro = 1; FALSE = Falso = 0)"
      ],
      "metadata": {
        "colab": {
          "base_uri": "https://localhost:8080/"
        },
        "id": "8-sEOOdzTbwo",
        "outputId": "99591d74-7de4-4d81-b7c5-1bc6ae4861a7"
      },
      "execution_count": null,
      "outputs": [
        {
          "output_type": "stream",
          "name": "stdout",
          "text": [
            " [1] 1 0 1 0 1 0 1 0 1 0\n",
            " [1]  TRUE FALSE  TRUE FALSE  TRUE FALSE  TRUE FALSE  TRUE FALSE\n"
          ]
        }
      ]
    },
    {
      "cell_type": "markdown",
      "source": [
        "<div align = \"justify\"> \n",
        "\n",
        "Quando digitamos *vetor[2]*, o número disposto entre colchetes é uma **subscrição**. A subscrição indica a posição de um dado dentro de uma \n",
        "estrutura de dados. Obviamente, a subscrição é um número inteiro e \n",
        "dentro dos limites de tamanho da lista. A subscrição/índice varia de 1 \n",
        "até N, em que N é o número de elementos na lista. \n",
        "\n",
        "Diversas operações com vetores e entre vetores e matrizes são pré-definidas no R. No exemplo abaixo, identifique a diferença entre o produto ponto-a-ponto e a multiplicação escalar (produto interno).\n",
        "\n",
        "</div>"
      ],
      "metadata": {
        "id": "T0ou-9cUTqRl"
      }
    },
    {
      "cell_type": "code",
      "source": [
        "%%R\n",
        "# Definição de dois vetores quaisquer \n",
        "v <- c(12,3,4,25,7,8)\n",
        "r <- c(13,15,4,21,2,3)\n",
        "print(\"Comprimento de um vetor\")\n",
        "print( length(v) )\n",
        "readline(scan(n=1)) # dê enter para continuar!\n",
        "print(\"Multiplicação ponto-a-ponto\")\n",
        "print( v*r )\n",
        "readline(scan(n=1)) # dê enter para continuar!\n",
        "print(\"Produto escalar <v,r>\")\n",
        "print( v%*%r )"
      ],
      "metadata": {
        "colab": {
          "base_uri": "https://localhost:8080/"
        },
        "id": "aBEF6RvlTvqm",
        "outputId": "1cbe67da-b82c-4adb-a6c7-dc115700feab"
      },
      "execution_count": null,
      "outputs": [
        {
          "name": "stdout",
          "output_type": "stream",
          "text": [
            "[1] \"Comprimento de um vetor\"\n",
            "[1] 6\n",
            "1: \n"
          ]
        },
        {
          "output_type": "stream",
          "name": "stderr",
          "text": [
            "WARNING:rpy2.rinterface_lib.callbacks:R[write to console]: Read 0 items\n",
            "\n"
          ]
        },
        {
          "name": "stdout",
          "output_type": "stream",
          "text": [
            "\n",
            "[1] \"Multiplicação ponto-a-ponto\"\n",
            "[1] 156  45  16 525  14  24\n",
            "1: \n"
          ]
        },
        {
          "output_type": "stream",
          "name": "stderr",
          "text": [
            "WARNING:rpy2.rinterface_lib.callbacks:R[write to console]: Read 0 items\n",
            "\n"
          ]
        },
        {
          "output_type": "stream",
          "name": "stdout",
          "text": [
            "\n",
            "[1] \"Produto escalar <v,r>\"\n",
            "     [,1]\n",
            "[1,]  780\n"
          ]
        }
      ]
    },
    {
      "cell_type": "markdown",
      "source": [
        "\n",
        "## Arrays ou matrizes\n",
        "\n",
        "Arrays e matrizes são estruturas de dados bidimensionais, cujas as \n",
        "entradas apresentam subscrições para as linhas e colunas. \n"
      ],
      "metadata": {
        "id": "vaenQXVKVKoH"
      }
    },
    {
      "cell_type": "code",
      "source": [
        "%%R\n",
        "# Criando um banco de dados\n",
        "dados<-data.frame(v,r)\n",
        "# Leitura das 3 linhas iniciais\n",
        "head(dados,3)\n"
      ],
      "metadata": {
        "colab": {
          "base_uri": "https://localhost:8080/"
        },
        "id": "THTagj_FVOgz",
        "outputId": "79a16593-5485-46ec-9498-d328e0afb333"
      },
      "execution_count": null,
      "outputs": [
        {
          "output_type": "stream",
          "name": "stdout",
          "text": [
            "   v  r\n",
            "1 12 13\n",
            "2  3 15\n",
            "3  4  4\n"
          ]
        }
      ]
    },
    {
      "cell_type": "code",
      "source": [
        "%%R\n",
        "# acessando a coluna \"v\" do banco de dados\n",
        "dados$v\n"
      ],
      "metadata": {
        "colab": {
          "base_uri": "https://localhost:8080/"
        },
        "id": "TrYIzw2dVWs-",
        "outputId": "36356746-89a7-4391-efbc-146e5a99d4a2"
      },
      "execution_count": null,
      "outputs": [
        {
          "output_type": "stream",
          "name": "stdout",
          "text": [
            "[1] 12  3  4 25  7  8\n"
          ]
        }
      ]
    },
    {
      "cell_type": "code",
      "source": [
        "%%R\n",
        "# Acessando o elemento da linha 3 e coluna 2\n",
        "dados[3,2]\n"
      ],
      "metadata": {
        "colab": {
          "base_uri": "https://localhost:8080/"
        },
        "id": "uU0I7hgfVYgX",
        "outputId": "5bc9de8b-0cd3-4d7d-e5ca-1dc7da6a145e"
      },
      "execution_count": null,
      "outputs": [
        {
          "output_type": "stream",
          "name": "stdout",
          "text": [
            "[1] 4\n"
          ]
        }
      ]
    },
    {
      "cell_type": "code",
      "source": [
        "%%R\n",
        "# Dimenões do banco de dados\n",
        "dim(dados)"
      ],
      "metadata": {
        "colab": {
          "base_uri": "https://localhost:8080/"
        },
        "id": "MMEBAY_1VauT",
        "outputId": "494f6b4e-b9cf-43c8-9f8f-ba8bbacf3eb2"
      },
      "execution_count": null,
      "outputs": [
        {
          "output_type": "stream",
          "name": "stdout",
          "text": [
            "[1] 6 2\n"
          ]
        }
      ]
    },
    {
      "cell_type": "markdown",
      "source": [
        "\n",
        "<div align = \"justify\"> \n",
        "\n",
        "No exemplo abaixo, definimos uma matriz com 3 linhas (_nr = number of lines_) e cujo preenchimento segue a ordem das colunas (_byrow = FALSE_).\n",
        "Diversas operações matriciais são possíveis, tais como: transposição, inversão, multiplicação, cálculo de autovalores, autovetores e determinantes. Essas operações têm grande relevância na Estatística.\n",
        "\n",
        "</div>"
      ],
      "metadata": {
        "id": "dU4AsbQ2Vrqw"
      }
    },
    {
      "cell_type": "code",
      "source": [
        "%%R\n",
        "# Definindo a matriz\n",
        "A<-matrix(c(2,3,4,5,6,7),nr=3,byrow=FALSE)\n",
        "A\n"
      ],
      "metadata": {
        "colab": {
          "base_uri": "https://localhost:8080/"
        },
        "id": "QkzN4HnuVsdy",
        "outputId": "de59f372-7318-47f8-cb5b-d3cfd109bfd7"
      },
      "execution_count": null,
      "outputs": [
        {
          "output_type": "stream",
          "name": "stdout",
          "text": [
            "     [,1] [,2]\n",
            "[1,]    2    5\n",
            "[2,]    3    6\n",
            "[3,]    4    7\n"
          ]
        }
      ]
    },
    {
      "cell_type": "code",
      "source": [
        "%%R\n",
        "# Obtenção da transposta\n",
        "t(A)\n"
      ],
      "metadata": {
        "colab": {
          "base_uri": "https://localhost:8080/"
        },
        "id": "J_6_c_VTVzAT",
        "outputId": "bb818966-3aac-4f2d-cf5e-37197708aa6e"
      },
      "execution_count": null,
      "outputs": [
        {
          "output_type": "stream",
          "name": "stdout",
          "text": [
            "     [,1] [,2] [,3]\n",
            "[1,]    2    3    4\n",
            "[2,]    5    6    7\n"
          ]
        }
      ]
    },
    {
      "cell_type": "code",
      "source": [
        "%%R\n",
        "# Definindo outra matriz\n",
        "B<-matrix(c(2,3,4,5,6,7,8,9,10),nr=3,byrow=FALSE)\n",
        "B\n"
      ],
      "metadata": {
        "colab": {
          "base_uri": "https://localhost:8080/"
        },
        "id": "HsdNvY1CV1D3",
        "outputId": "a85760db-777e-40d1-f2e9-fa596928556f"
      },
      "execution_count": null,
      "outputs": [
        {
          "output_type": "stream",
          "name": "stdout",
          "text": [
            "     [,1] [,2] [,3]\n",
            "[1,]    2    5    8\n",
            "[2,]    3    6    9\n",
            "[3,]    4    7   10\n"
          ]
        }
      ]
    },
    {
      "cell_type": "code",
      "source": [
        "%%R\n",
        "# Cálculo do determinante\n",
        "det(B)\n"
      ],
      "metadata": {
        "colab": {
          "base_uri": "https://localhost:8080/"
        },
        "id": "eT4fHaBtV2xg",
        "outputId": "26b1cf22-e41c-421d-d0b0-eb6c5a8614ea"
      },
      "execution_count": null,
      "outputs": [
        {
          "output_type": "stream",
          "name": "stdout",
          "text": [
            "[1] 0\n"
          ]
        }
      ]
    },
    {
      "cell_type": "code",
      "source": [
        "%RR\n",
        "# Tentativa - Cálculo da Inversa \n",
        "try(solve(B))\n"
      ],
      "metadata": {
        "colab": {
          "base_uri": "https://localhost:8080/",
          "height": 131
        },
        "id": "Y8TLo1BJV4im",
        "outputId": "daa79554-b9eb-4277-a83d-dd377e87fb2e"
      },
      "execution_count": null,
      "outputs": [
        {
          "output_type": "error",
          "ename": "SyntaxError",
          "evalue": "ignored",
          "traceback": [
            "\u001b[0;36m  File \u001b[0;32m\"<ipython-input-99-888748383648>\"\u001b[0;36m, line \u001b[0;32m3\u001b[0m\n\u001b[0;31m    try(solve(B))\u001b[0m\n\u001b[0m       ^\u001b[0m\n\u001b[0;31mSyntaxError\u001b[0m\u001b[0;31m:\u001b[0m invalid syntax\n"
          ]
        }
      ]
    },
    {
      "cell_type": "code",
      "source": [
        "%%R\n",
        "# Nova matriz\n",
        "B2<-matrix(c(2,3,28,5,6,12,8,9,5),nr=3,byrow=FALSE)\n",
        "print(det(B2))\n",
        "print(solve(B2))\n"
      ],
      "metadata": {
        "colab": {
          "base_uri": "https://localhost:8080/"
        },
        "id": "KS9iPy4TV61b",
        "outputId": "3ef96f05-0c7f-437b-8c1c-8cdfba552b30"
      },
      "execution_count": null,
      "outputs": [
        {
          "output_type": "stream",
          "name": "stdout",
          "text": [
            "[1] -27\n",
            "          [,1]      [,2]       [,3]\n",
            "[1,]  2.888889 -2.629630  0.1111111\n",
            "[2,] -8.777778  7.925926 -0.2222222\n",
            "[3,]  4.888889 -4.296296  0.1111111\n"
          ]
        }
      ]
    },
    {
      "cell_type": "code",
      "source": [
        "%%R\n",
        "# multiplicação ponto-a-ponto\n",
        "B*B2\n"
      ],
      "metadata": {
        "colab": {
          "base_uri": "https://localhost:8080/"
        },
        "id": "UgtW7XE6WDAZ",
        "outputId": "6db93b6c-b9bc-4b40-dab1-cc15e7cc561c"
      },
      "execution_count": null,
      "outputs": [
        {
          "output_type": "stream",
          "name": "stdout",
          "text": [
            "     [,1] [,2] [,3]\n",
            "[1,]    4   25   64\n",
            "[2,]    9   36   81\n",
            "[3,]  112   84   50\n"
          ]
        }
      ]
    },
    {
      "cell_type": "code",
      "source": [
        "%%R\n",
        "# multiplicação matricial\n",
        "B%*%B2"
      ],
      "metadata": {
        "colab": {
          "base_uri": "https://localhost:8080/"
        },
        "id": "T5_eMoWYWEa3",
        "outputId": "2456af16-14ce-4821-da24-9608c9e1da47"
      },
      "execution_count": null,
      "outputs": [
        {
          "output_type": "stream",
          "name": "stdout",
          "text": [
            "     [,1] [,2] [,3]\n",
            "[1,]  243  136  101\n",
            "[2,]  276  159  123\n",
            "[3,]  309  182  145\n"
          ]
        }
      ]
    }
  ]
}
